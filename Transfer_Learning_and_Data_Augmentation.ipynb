{
 "cells": [
  {
   "cell_type": "markdown",
   "metadata": {
    "cell_ktag": "D/50KWKDV3wr",
    "id": "4jVkOWmgFT1p"
   },
   "source": [
    "# **Practical session on Transfer Learning**\n",
    "This Pratical session proposes to study several techniques for improving challenging context, in which few data and resources are available."
   ]
  },
  {
   "cell_type": "markdown",
   "metadata": {
    "cell_ktag": "D/50KWKDV3wr",
    "id": "QLKnIngy_2hg"
   },
   "source": [
    "# Introduction\n",
    "\n",
    "**Context :**\n",
    "\n",
    "Assume we are in a context where few \"gold\" labeled data are available for training, say\n",
    "\n",
    "$$\\mathcal{X}_{\\text{train}} = \\{(x_n,y_n)\\}_{n\\leq N_{\\text{train}}}$$\n",
    "\n",
    "where $N_{\\text{train}}$ is small.\n",
    "\n",
    "A large test set $\\mathcal{X}_{\\text{test}}$ as well as a large amount of unlabeled data, $\\mathcal{X}$, is available. We also assume that we have a limited computational budget (e.g., no GPUs).\n",
    "\n",
    "**Instructions to follow :**\n",
    "\n",
    "For each question, write a commented *Code* or a complete answer as a *Markdown*. When the objective of a question is to report a CNN accuracy, please use the following format to report it, at the end of the question :\n",
    "\n",
    "| Model | Number of  epochs  | Train accuracy | Test accuracy |\n",
    "|------|------|------|------|\n",
    "|   XXX  | XXX | XXX | XXX |\n",
    "\n",
    "If applicable, please add the field corresponding to the  __Accuracy on Full Data__ as well as a link to the __Reference paper__ you used to report those numbers. (You do not need to train a CNN on the full CIFAR10 dataset!)\n",
    "\n",
    "In your final report, please *keep the logs of each training procedure* you used. We will only run this jupyter if we have some doubts on your implementation.\n",
    "\n",
    "The total file sizes should be reasonable (feasible with 2MB only!). You will be asked to hand in the notebook, together with any necessary files required to run it if any.\n",
    "\n",
    "You can use https://colab.research.google.com/ to run your experiments."
   ]
  },
  {
   "cell_type": "markdown",
   "metadata": {
    "cell_ktag": "D/50KWKDV3wr",
    "id": "YmTCQPSh_2hg"
   },
   "source": [
    "## Training set creation\n",
    "__Question 1 (1 points) :__ Propose a dataloader to obtain a training loader that will only use the first 100 samples of the CIFAR-10 training set.\n",
    "\n",
    "Additional information :  \n",
    "\n",
    "*   CIFAR10 dataset : https://en.wikipedia.org/wiki/CIFAR-10\n",
    "*   You can directly use the dataloader framework from Pytorch.\n",
    "*   Alternatively you can modify the file : https://github.com/pytorch/vision/blob/master/torchvision/datasets/cifar.py"
   ]
  },
  {
   "cell_type": "code",
   "execution_count": 1,
   "metadata": {
    "id": "gCWN8ZIESW_O"
   },
   "outputs": [],
   "source": [
    "import torch\n",
    "from torchvision import datasets, transforms, utils\n",
    "from torch.utils.data import Subset, DataLoader\n",
    "import numpy as np\n",
    "import matplotlib.pyplot as plt\n",
    "import pandas as pd\n",
    "\n",
    "pd.set_option('display.max_colwidth',True)"
   ]
  },
  {
   "cell_type": "code",
   "execution_count": 2,
   "metadata": {},
   "outputs": [],
   "source": [
    "seed=11111\n",
    "results=pd.DataFrame(columns=['Model','Number of epochs','Train accuracy','Test accuracy'])"
   ]
  },
  {
   "cell_type": "code",
   "execution_count": 3,
   "metadata": {},
   "outputs": [],
   "source": [
    "torch.manual_seed(seed)\n",
    "torch.cuda.manual_seed(seed)\n",
    "torch.backends.cudnn.deterministic = True\n",
    "torch.backends.cudnn.benchmark = False\n",
    "np.random.seed(seed)"
   ]
  },
  {
   "cell_type": "code",
   "execution_count": 4,
   "metadata": {
    "cell_ktag": "D/50KWKDV3wr",
    "colab": {
     "base_uri": "https://localhost:8080/"
    },
    "id": "uZkC5IxR_2hh",
    "outputId": "f9e245a7-d30d-42e2-d954-1b45bbe89f1d"
   },
   "outputs": [
    {
     "name": "stdout",
     "output_type": "stream",
     "text": [
      "Files already downloaded and verified\n"
     ]
    }
   ],
   "source": [
    "transform = transforms.Compose([\n",
    "    transforms.ToTensor(),\n",
    "    transforms.Lambda(lambda x: x.float()),\n",
    "    transforms.Normalize((0.5, 0.5, 0.5), (0.5, 0.5, 0.5))\n",
    "])\n",
    "\n",
    "train_set = datasets.CIFAR10(root='./data', train=True, download=True, transform=transform)\n",
    "\n",
    "batch_size = 10\n",
    "\n",
    "original_subset = Subset(train_set, list(range(100)))\n",
    "\n",
    "train_loader = DataLoader(original_subset, batch_size=batch_size, shuffle=True)"
   ]
  },
  {
   "cell_type": "code",
   "execution_count": 5,
   "metadata": {
    "colab": {
     "base_uri": "https://localhost:8080/"
    },
    "id": "-VqWRolQSW_Q",
    "outputId": "66aee0b1-0880-4bbf-9e42-3d40737a96a3"
   },
   "outputs": [
    {
     "data": {
      "text/plain": [
       "100"
      ]
     },
     "execution_count": 5,
     "metadata": {},
     "output_type": "execute_result"
    }
   ],
   "source": [
    "len(train_loader.dataset)"
   ]
  },
  {
   "cell_type": "code",
   "execution_count": 6,
   "metadata": {
    "id": "5Vtj-eGGSW_R"
   },
   "outputs": [],
   "source": [
    "test_loader= DataLoader(train_set, batch_size=batch_size, shuffle=True)"
   ]
  },
  {
   "cell_type": "code",
   "execution_count": 7,
   "metadata": {
    "id": "JifeNDt9SW_R"
   },
   "outputs": [],
   "source": [
    "remain_loader = DataLoader(Subset(train_set, list(range(100, len(train_set)))), batch_size=batch_size, shuffle=True)"
   ]
  },
  {
   "cell_type": "markdown",
   "metadata": {
    "cell_ktag": "D/50KWKDV3wr",
    "id": "fUno1nmu_2hh"
   },
   "source": [
    "* This is our dataset $\\mathcal{X}_{\\text{train}}$, it will be used until the end of this project.\n",
    "\n",
    "* The remaining samples correspond to $\\mathcal{X}$.\n",
    "\n",
    "* The testing set $\\mathcal{X}_{\\text{test}}$ corresponds to the whole testing set of CIFAR-10."
   ]
  },
  {
   "cell_type": "markdown",
   "metadata": {
    "cell_ktag": "D/50KWKDV3wr",
    "id": "Vr0d4o5L_2hi"
   },
   "source": [
    "## Testing procedure\n",
    "__Question 2 (0.5 points):__ Explain why the evaluation of the training procedure is difficult. Propose several solutions."
   ]
  },
  {
   "cell_type": "markdown",
   "metadata": {
    "cell_ktag": "D/50KWKDV3wr",
    "id": "ppiTrnpd_2hi"
   },
   "source": []
  },
  {
   "cell_type": "code",
   "execution_count": 8,
   "metadata": {
    "colab": {
     "base_uri": "https://localhost:8080/"
    },
    "id": "1PaOOq3YSW_S",
    "outputId": "8f9a2c08-8231-4df8-a77e-21a480e624d8"
   },
   "outputs": [
    {
     "name": "stdout",
     "output_type": "stream",
     "text": [
      "the size of the training set is 100\n"
     ]
    }
   ],
   "source": [
    "print(f'the size of the training set is {len(train_loader.dataset)}')"
   ]
  },
  {
   "cell_type": "markdown",
   "metadata": {
    "id": "mNH0wC3vSW_T"
   },
   "source": [
    "The size of the training set is too small to train a machine learning model especially neural network such as CNN, a try will possibly lead to an overfitting"
   ]
  },
  {
   "cell_type": "markdown",
   "metadata": {
    "cell_ktag": "D/50KWKDV3wr",
    "id": "OEaIwILB_2hi"
   },
   "source": [
    "# The Baseline"
   ]
  },
  {
   "cell_type": "markdown",
   "metadata": {
    "cell_ktag": "D/50KWKDV3wr",
    "id": "M-PQZ2Vl_2hi"
   },
   "source": [
    "In this section, the goal is to train a CNN on $\\mathcal{X}_{\\text{train}}$ and compare its performance with reported numbers from the litterature. You will have to re-use and/or design a standard classification pipeline. You should optimize your pipeline to obtain the best performances (image size, data augmentation by flip, ...).\n",
    "\n",
    "The key ingredients for training a CNN are the batch size, as well as the learning rate scheduler (i.e. how to decrease the learning rate as a function of the number of epochs). A possible scheduler is to start the learning rate at 0.1 and decreasing it every 30 epochs by 10. In case of divergence, reduce the learning rate. A potential batch size could be 10, yet this can be cross-validated.\n",
    "\n",
    "You can get some baselines accuracies in this paper (obviously, it is a different context for those researchers who had access to GPUs!) : http://openaccess.thecvf.com/content_cvpr_2018/papers/Keshari_Learning_Structure_and_CVPR_2018_paper.pdf."
   ]
  },
  {
   "cell_type": "markdown",
   "metadata": {
    "cell_ktag": "D/50KWKDV3wr",
    "id": "ARHWPXrY_2hi"
   },
   "source": [
    "## ResNet architectures"
   ]
  },
  {
   "cell_type": "markdown",
   "metadata": {
    "cell_ktag": "D/50KWKDV3wr",
    "id": "voMbGoNw_2hj"
   },
   "source": [
    "__Question 3 (2 points) :__ Write a classification pipeline for $\\mathcal{X}_{\\text{train}}$, train from scratch and evaluate a *ResNet-18* architecture specific to CIFAR10 (details about the ImageNet model can be found here: https://arxiv.org/abs/1512.03385). Please report the accuracy obtained on the whole dataset as well as the reference paper/GitHub link.\n",
    "\n",
    "*Hint :* You can re-use the following code : https://github.com/kuangliu/pytorch-cifar. During a training of 10 epochs, a batch size of 10 and a learning rate of 0.01, one obtains 40% accuracy on $\\mathcal{X}_{\\text{train}}$ (\\~2 minutes) and 20% accuracy on $\\mathcal{X}_{\\text{test}}$ (\\~5 minutes)."
   ]
  },
  {
   "cell_type": "code",
   "execution_count": 9,
   "metadata": {
    "cell_ktag": "D/50KWKDV3wr",
    "id": "RVHhKmWN_2hj"
   },
   "outputs": [],
   "source": [
    "'''ResNet in PyTorch.\n",
    "\n",
    "For Pre-activation ResNet, see 'preact_resnet.py'.\n",
    "\n",
    "Reference:\n",
    "[1] Kaiming He, Xiangyu Zhang, Shaoqing Ren, Jian Sun\n",
    "    Deep Residual Learning for Image Recognition. arXiv:1512.03385\n",
    "'''\n",
    "import torch\n",
    "import torch.nn as nn\n",
    "import torch.nn.functional as F\n",
    "\n",
    "\n",
    "class BasicBlock(nn.Module):\n",
    "    expansion = 1\n",
    "\n",
    "    def __init__(self, in_planes, planes, stride=1):\n",
    "        super(BasicBlock, self).__init__()\n",
    "        self.conv1 = nn.Conv2d(\n",
    "            in_planes, planes, kernel_size=3, stride=stride, padding=1, bias=False)\n",
    "        self.bn1 = nn.BatchNorm2d(planes)\n",
    "        self.conv2 = nn.Conv2d(planes, planes, kernel_size=3,\n",
    "                               stride=1, padding=1, bias=False)\n",
    "        self.bn2 = nn.BatchNorm2d(planes)\n",
    "\n",
    "        self.shortcut = nn.Sequential()\n",
    "        if stride != 1 or in_planes != self.expansion*planes:\n",
    "            self.shortcut = nn.Sequential(\n",
    "                nn.Conv2d(in_planes, self.expansion*planes,\n",
    "                          kernel_size=1, stride=stride, bias=False),\n",
    "                nn.BatchNorm2d(self.expansion*planes)\n",
    "            )\n",
    "\n",
    "    def forward(self, x):\n",
    "        out = F.relu(self.bn1(self.conv1(x)))\n",
    "        out = self.bn2(self.conv2(out))\n",
    "        out += self.shortcut(x)\n",
    "        out = F.relu(out)\n",
    "        return out\n",
    "\n",
    "\n",
    "class Bottleneck(nn.Module):\n",
    "    expansion = 4\n",
    "\n",
    "    def __init__(self, in_planes, planes, stride=1):\n",
    "        super(Bottleneck, self).__init__()\n",
    "        self.conv1 = nn.Conv2d(in_planes, planes, kernel_size=1, bias=False)\n",
    "        self.bn1 = nn.BatchNorm2d(planes)\n",
    "        self.conv2 = nn.Conv2d(planes, planes, kernel_size=3,\n",
    "                               stride=stride, padding=1, bias=False)\n",
    "        self.bn2 = nn.BatchNorm2d(planes)\n",
    "        self.conv3 = nn.Conv2d(planes, self.expansion *\n",
    "                               planes, kernel_size=1, bias=False)\n",
    "        self.bn3 = nn.BatchNorm2d(self.expansion*planes)\n",
    "\n",
    "        self.shortcut = nn.Sequential()\n",
    "        if stride != 1 or in_planes != self.expansion*planes:\n",
    "            self.shortcut = nn.Sequential(\n",
    "                nn.Conv2d(in_planes, self.expansion*planes,\n",
    "                          kernel_size=1, stride=stride, bias=False),\n",
    "                nn.BatchNorm2d(self.expansion*planes)\n",
    "            )\n",
    "\n",
    "    def forward(self, x):\n",
    "        out = F.relu(self.bn1(self.conv1(x)))\n",
    "        out = F.relu(self.bn2(self.conv2(out)))\n",
    "        out = self.bn3(self.conv3(out))\n",
    "        out += self.shortcut(x)\n",
    "        out = F.relu(out)\n",
    "        return out\n",
    "\n",
    "\n",
    "class ResNet(nn.Module):\n",
    "    def __init__(self, block, num_blocks, num_classes=10):\n",
    "        super(ResNet, self).__init__()\n",
    "        self.in_planes = 64\n",
    "\n",
    "        self.conv1 = nn.Conv2d(3, 64, kernel_size=3,\n",
    "                               stride=1, padding=1, bias=False)\n",
    "        self.bn1 = nn.BatchNorm2d(64)\n",
    "        self.layer1 = self._make_layer(block, 64, num_blocks[0], stride=1)\n",
    "        self.layer2 = self._make_layer(block, 128, num_blocks[1], stride=2)\n",
    "        self.layer3 = self._make_layer(block, 256, num_blocks[2], stride=2)\n",
    "        self.layer4 = self._make_layer(block, 512, num_blocks[3], stride=2)\n",
    "        self.linear = nn.Linear(512*block.expansion, num_classes)\n",
    "\n",
    "    def _make_layer(self, block, planes, num_blocks, stride):\n",
    "        strides = [stride] + [1]*(num_blocks-1)\n",
    "        layers = []\n",
    "        for stride in strides:\n",
    "            layers.append(block(self.in_planes, planes, stride))\n",
    "            self.in_planes = planes * block.expansion\n",
    "        return nn.Sequential(*layers)\n",
    "\n",
    "    def forward(self, x):\n",
    "        out = F.relu(self.bn1(self.conv1(x)))\n",
    "        out = self.layer1(out)\n",
    "        out = self.layer2(out)\n",
    "        out = self.layer3(out)\n",
    "        out = self.layer4(out)\n",
    "        out = F.avg_pool2d(out, 4)\n",
    "        out = out.view(out.size(0), -1)\n",
    "        out = self.linear(out)\n",
    "        return out\n",
    "\n",
    "def predict(model,dataloader):\n",
    "    result=[]\n",
    "    model.eval()\n",
    "    correct=0\n",
    "    total=0\n",
    "\n",
    "    for batch_idx, (inputs, targets) in enumerate(dataloader):\n",
    "        inputs, targets= inputs.to(device), targets.to(device)\n",
    "        outputs=model(inputs)\n",
    "        _, predicted = outputs.max(1)\n",
    "        result.append(predicted)\n",
    "        total += targets.size(0)\n",
    "        correct += predicted.eq(targets).sum().item()\n",
    "\n",
    "    return torch.cat(result, dim=0), np.round(100.*correct/total,2)\n",
    "\n",
    "\n",
    "\n",
    "def ResNet18():\n",
    "    return ResNet(BasicBlock, [2, 2, 2, 2])\n",
    "\n"
   ]
  },
  {
   "cell_type": "code",
   "execution_count": 10,
   "metadata": {
    "id": "HdysXXBxSW_V"
   },
   "outputs": [],
   "source": [
    "model=ResNet18()\n",
    "device = 'cuda' if torch.cuda.is_available() else 'cpu'\n",
    "model.to(device)\n",
    "\n",
    "if device == 'cuda':\n",
    "    model = torch.nn.DataParallel(model)\n",
    "    # cudnn.benchmark = True\n",
    "\n",
    "criterion = nn.CrossEntropyLoss()\n",
    "optimizer = torch.optim.SGD(model.parameters(), lr=0.01,\n",
    "                      momentum=0.9, weight_decay=5e-4)\n",
    "scheduler = torch.optim.lr_scheduler.CosineAnnealingLR(optimizer, T_max=200)\n"
   ]
  },
  {
   "cell_type": "code",
   "execution_count": 11,
   "metadata": {
    "id": "eWlZFKhnSW_V"
   },
   "outputs": [],
   "source": [
    "def train(model,epoch,criterion,optimizer,scheduler,train_loader):\n",
    "    print('\\nEpoch: %d' % epoch)\n",
    "    model.train()\n",
    "    train_loss=0\n",
    "    correct=0\n",
    "    total=0\n",
    "    for batch_idx, (inputs, targets) in enumerate(train_loader):\n",
    "        inputs, targets= inputs.to(device), targets.to(device)\n",
    "        optimizer.zero_grad()\n",
    "        outputs=model(inputs)\n",
    "        loss=criterion(outputs,targets)\n",
    "        loss.backward()\n",
    "        optimizer.step()\n",
    "\n",
    "        train_loss += loss.item()\n",
    "        _, predicted = outputs.max(1)\n",
    "        total += targets.size(0)\n",
    "        correct += predicted.eq(targets).sum().item()\n",
    "\n",
    "        print(f'batch index:{batch_idx}| train_loss={np.round(train_loss/(batch_idx+1),2)} | correct_percentage={np.round(100.*correct/total,2)}')\n",
    "\n",
    "#         progress_bar(batch_idx, len(trainloader), 'Loss: %.3f | Acc: %.3f%% (%d/%d)'\n",
    "#                      % , 100.*correct/total, correct, total))\n",
    "\n"
   ]
  },
  {
   "cell_type": "code",
   "execution_count": 12,
   "metadata": {
    "colab": {
     "base_uri": "https://localhost:8080/"
    },
    "id": "gKTGMREISW_V",
    "outputId": "4bf9de68-abb9-443a-d029-232dee15663b",
    "scrolled": true
   },
   "outputs": [
    {
     "name": "stdout",
     "output_type": "stream",
     "text": [
      "\n",
      "Epoch: 0\n",
      "batch index:0| train_loss=2.49 | correct_percentage=0.0\n",
      "batch index:1| train_loss=2.49 | correct_percentage=10.0\n",
      "batch index:2| train_loss=2.57 | correct_percentage=6.67\n",
      "batch index:3| train_loss=2.63 | correct_percentage=7.5\n",
      "batch index:4| train_loss=2.77 | correct_percentage=6.0\n",
      "batch index:5| train_loss=2.87 | correct_percentage=5.0\n",
      "batch index:6| train_loss=2.79 | correct_percentage=7.14\n",
      "batch index:7| train_loss=2.74 | correct_percentage=8.75\n",
      "batch index:8| train_loss=2.77 | correct_percentage=10.0\n",
      "batch index:9| train_loss=2.92 | correct_percentage=9.0\n",
      "\n",
      "Epoch: 1\n",
      "batch index:0| train_loss=3.1 | correct_percentage=10.0\n",
      "batch index:1| train_loss=2.85 | correct_percentage=15.0\n",
      "batch index:2| train_loss=2.97 | correct_percentage=10.0\n",
      "batch index:3| train_loss=2.74 | correct_percentage=15.0\n",
      "batch index:4| train_loss=2.69 | correct_percentage=16.0\n",
      "batch index:5| train_loss=2.75 | correct_percentage=16.67\n",
      "batch index:6| train_loss=2.74 | correct_percentage=17.14\n",
      "batch index:7| train_loss=2.85 | correct_percentage=16.25\n",
      "batch index:8| train_loss=2.85 | correct_percentage=16.67\n",
      "batch index:9| train_loss=2.79 | correct_percentage=18.0\n",
      "\n",
      "Epoch: 2\n",
      "batch index:0| train_loss=2.72 | correct_percentage=20.0\n",
      "batch index:1| train_loss=2.42 | correct_percentage=30.0\n",
      "batch index:2| train_loss=2.31 | correct_percentage=33.33\n",
      "batch index:3| train_loss=2.57 | correct_percentage=35.0\n",
      "batch index:4| train_loss=2.65 | correct_percentage=34.0\n",
      "batch index:5| train_loss=2.52 | correct_percentage=33.33\n",
      "batch index:6| train_loss=2.51 | correct_percentage=31.43\n",
      "batch index:7| train_loss=2.52 | correct_percentage=30.0\n",
      "batch index:8| train_loss=2.43 | correct_percentage=30.0\n",
      "batch index:9| train_loss=2.44 | correct_percentage=29.0\n",
      "\n",
      "Epoch: 3\n",
      "batch index:0| train_loss=2.27 | correct_percentage=30.0\n",
      "batch index:1| train_loss=2.09 | correct_percentage=25.0\n",
      "batch index:2| train_loss=2.04 | correct_percentage=30.0\n",
      "batch index:3| train_loss=1.87 | correct_percentage=35.0\n",
      "batch index:4| train_loss=1.86 | correct_percentage=38.0\n",
      "batch index:5| train_loss=1.95 | correct_percentage=33.33\n",
      "batch index:6| train_loss=1.95 | correct_percentage=34.29\n",
      "batch index:7| train_loss=1.99 | correct_percentage=37.5\n",
      "batch index:8| train_loss=2.09 | correct_percentage=36.67\n",
      "batch index:9| train_loss=2.1 | correct_percentage=37.0\n",
      "\n",
      "Epoch: 4\n",
      "batch index:0| train_loss=1.19 | correct_percentage=50.0\n",
      "batch index:1| train_loss=1.25 | correct_percentage=50.0\n",
      "batch index:2| train_loss=1.24 | correct_percentage=50.0\n",
      "batch index:3| train_loss=1.46 | correct_percentage=45.0\n",
      "batch index:4| train_loss=1.65 | correct_percentage=44.0\n",
      "batch index:5| train_loss=1.61 | correct_percentage=46.67\n",
      "batch index:6| train_loss=1.56 | correct_percentage=47.14\n",
      "batch index:7| train_loss=1.6 | correct_percentage=46.25\n",
      "batch index:8| train_loss=1.54 | correct_percentage=46.67\n",
      "batch index:9| train_loss=1.49 | correct_percentage=48.0\n",
      "\n",
      "Epoch: 5\n",
      "batch index:0| train_loss=1.23 | correct_percentage=50.0\n",
      "batch index:1| train_loss=1.27 | correct_percentage=55.0\n",
      "batch index:2| train_loss=1.28 | correct_percentage=53.33\n",
      "batch index:3| train_loss=1.28 | correct_percentage=57.5\n",
      "batch index:4| train_loss=1.46 | correct_percentage=54.0\n",
      "batch index:5| train_loss=1.37 | correct_percentage=56.67\n",
      "batch index:6| train_loss=1.66 | correct_percentage=50.0\n",
      "batch index:7| train_loss=1.73 | correct_percentage=47.5\n",
      "batch index:8| train_loss=1.73 | correct_percentage=47.78\n",
      "batch index:9| train_loss=1.73 | correct_percentage=46.0\n",
      "\n",
      "Epoch: 6\n",
      "batch index:0| train_loss=1.82 | correct_percentage=30.0\n",
      "batch index:1| train_loss=1.91 | correct_percentage=40.0\n",
      "batch index:2| train_loss=1.55 | correct_percentage=56.67\n",
      "batch index:3| train_loss=1.87 | correct_percentage=47.5\n",
      "batch index:4| train_loss=1.93 | correct_percentage=42.0\n",
      "batch index:5| train_loss=2.33 | correct_percentage=36.67\n",
      "batch index:6| train_loss=2.27 | correct_percentage=35.71\n",
      "batch index:7| train_loss=2.11 | correct_percentage=40.0\n",
      "batch index:8| train_loss=2.0 | correct_percentage=41.11\n",
      "batch index:9| train_loss=2.01 | correct_percentage=41.0\n",
      "\n",
      "Epoch: 7\n",
      "batch index:0| train_loss=0.64 | correct_percentage=70.0\n",
      "batch index:1| train_loss=2.02 | correct_percentage=35.0\n",
      "batch index:2| train_loss=1.56 | correct_percentage=43.33\n",
      "batch index:3| train_loss=1.65 | correct_percentage=45.0\n",
      "batch index:4| train_loss=1.68 | correct_percentage=48.0\n",
      "batch index:5| train_loss=1.58 | correct_percentage=53.33\n",
      "batch index:6| train_loss=1.55 | correct_percentage=54.29\n",
      "batch index:7| train_loss=1.52 | correct_percentage=55.0\n",
      "batch index:8| train_loss=1.61 | correct_percentage=53.33\n",
      "batch index:9| train_loss=1.57 | correct_percentage=53.0\n",
      "\n",
      "Epoch: 8\n",
      "batch index:0| train_loss=0.27 | correct_percentage=90.0\n",
      "batch index:1| train_loss=0.37 | correct_percentage=85.0\n",
      "batch index:2| train_loss=0.54 | correct_percentage=73.33\n",
      "batch index:3| train_loss=0.56 | correct_percentage=72.5\n",
      "batch index:4| train_loss=0.58 | correct_percentage=72.0\n",
      "batch index:5| train_loss=0.56 | correct_percentage=73.33\n",
      "batch index:6| train_loss=0.6 | correct_percentage=71.43\n",
      "batch index:7| train_loss=0.6 | correct_percentage=73.75\n",
      "batch index:8| train_loss=0.78 | correct_percentage=72.22\n",
      "batch index:9| train_loss=0.83 | correct_percentage=71.0\n",
      "\n",
      "Epoch: 9\n",
      "batch index:0| train_loss=0.37 | correct_percentage=90.0\n",
      "batch index:1| train_loss=0.39 | correct_percentage=90.0\n",
      "batch index:2| train_loss=0.43 | correct_percentage=90.0\n",
      "batch index:3| train_loss=0.64 | correct_percentage=80.0\n",
      "batch index:4| train_loss=0.61 | correct_percentage=82.0\n",
      "batch index:5| train_loss=0.8 | correct_percentage=78.33\n",
      "batch index:6| train_loss=0.86 | correct_percentage=75.71\n",
      "batch index:7| train_loss=1.04 | correct_percentage=72.5\n",
      "batch index:8| train_loss=0.95 | correct_percentage=74.44\n",
      "batch index:9| train_loss=0.91 | correct_percentage=75.0\n"
     ]
    }
   ],
   "source": [
    "for epoch in range(0,10):\n",
    "    train(model,epoch,criterion,optimizer,scheduler,train_loader)\n",
    "    scheduler.step()"
   ]
  },
  {
   "cell_type": "code",
   "execution_count": 16,
   "metadata": {
    "colab": {
     "base_uri": "https://localhost:8080/"
    },
    "id": "5QSTKP-VSW_W",
    "outputId": "3e07da86-c640-4f89-aa70-464fdcbd5f68"
   },
   "outputs": [],
   "source": [
    "# print(f\"Accuracy on train set: {predict(model,train_loader)[1]}\")\n",
    "# print(f\"Accuracy on train set: {predict(model,test_loader)[1]}\")"
   ]
  },
  {
   "cell_type": "code",
   "execution_count": 17,
   "metadata": {},
   "outputs": [],
   "source": [
    "baseline_train_accuracy=predict(model,train_loader)[1]\n",
    "baseline_test_accuracy=predict(model,test_loader)[1]\n"
   ]
  },
  {
   "cell_type": "code",
   "execution_count": 18,
   "metadata": {},
   "outputs": [],
   "source": [
    "results.loc[0] = ['ResNet-18 (from scratch)', 10, baseline_train_accuracy,baseline_test_accuracy]"
   ]
  },
  {
   "cell_type": "code",
   "execution_count": 19,
   "metadata": {},
   "outputs": [
    {
     "data": {
      "text/html": [
       "<div>\n",
       "<style scoped>\n",
       "    .dataframe tbody tr th:only-of-type {\n",
       "        vertical-align: middle;\n",
       "    }\n",
       "\n",
       "    .dataframe tbody tr th {\n",
       "        vertical-align: top;\n",
       "    }\n",
       "\n",
       "    .dataframe thead th {\n",
       "        text-align: right;\n",
       "    }\n",
       "</style>\n",
       "<table border=\"1\" class=\"dataframe\">\n",
       "  <thead>\n",
       "    <tr style=\"text-align: right;\">\n",
       "      <th></th>\n",
       "      <th>Model</th>\n",
       "      <th>Number of epochs</th>\n",
       "      <th>Train accuracy</th>\n",
       "      <th>Test accuracy</th>\n",
       "    </tr>\n",
       "  </thead>\n",
       "  <tbody>\n",
       "    <tr>\n",
       "      <th>0</th>\n",
       "      <td>ResNet-18 (from scratch)</td>\n",
       "      <td>10</td>\n",
       "      <td>79.0</td>\n",
       "      <td>17.71</td>\n",
       "    </tr>\n",
       "  </tbody>\n",
       "</table>\n",
       "</div>"
      ],
      "text/plain": [
       "                      Model  Number of epochs  Train accuracy  Test accuracy\n",
       "0  ResNet-18 (from scratch)  10                79.0            17.71        "
      ]
     },
     "metadata": {},
     "output_type": "display_data"
    }
   ],
   "source": [
    "display(results)"
   ]
  },
  {
   "cell_type": "markdown",
   "metadata": {
    "cell_ktag": "D/50KWKDV3wr",
    "id": "-C3mHqCk_2hj"
   },
   "source": [
    "# Transfer learning"
   ]
  },
  {
   "cell_type": "markdown",
   "metadata": {
    "cell_ktag": "D/50KWKDV3wr",
    "id": "8Tn9pW14_2hj"
   },
   "source": [
    "We propose to use pre-trained models on a classification and generative task, in order to improve the results of our setting."
   ]
  },
  {
   "cell_type": "markdown",
   "metadata": {
    "cell_ktag": "D/50KWKDV3wr",
    "id": "z8g_3ZDi_2hj"
   },
   "source": [
    "## ImageNet features"
   ]
  },
  {
   "cell_type": "markdown",
   "metadata": {
    "cell_ktag": "D/50KWKDV3wr",
    "id": "PfYEhdFb_2hj"
   },
   "source": [
    "Now, we will use some pre-trained models on ImageNet and see how well they compare on CIFAR. A list is available on : https://pytorch.org/vision/stable/models.html.\n",
    "\n",
    "__Question 4 (1 points):__ Pick a model from the list above, adapt it for CIFAR10 and retrain its final layer (or a block of layers, depending on the resources to which you have access to). Report its accuracy."
   ]
  },
  {
   "cell_type": "code",
   "execution_count": 20,
   "metadata": {
    "cell_ktag": "D/50KWKDV3wr",
    "id": "i_lh4xje_2hk"
   },
   "outputs": [],
   "source": [
    "from torchvision.models import resnet18"
   ]
  },
  {
   "cell_type": "code",
   "execution_count": 21,
   "metadata": {
    "colab": {
     "base_uri": "https://localhost:8080/"
    },
    "id": "lo5GCbs6SW_X",
    "outputId": "a2c76601-1742-49e3-b3b2-c662af698581"
   },
   "outputs": [
    {
     "name": "stderr",
     "output_type": "stream",
     "text": [
      "/Users/jordan/anaconda3/envs/challengeQRT/lib/python3.12/site-packages/torchvision/models/_utils.py:208: UserWarning: The parameter 'pretrained' is deprecated since 0.13 and may be removed in the future, please use 'weights' instead.\n",
      "  warnings.warn(\n",
      "/Users/jordan/anaconda3/envs/challengeQRT/lib/python3.12/site-packages/torchvision/models/_utils.py:223: UserWarning: Arguments other than a weight enum or `None` for 'weights' are deprecated since 0.13 and may be removed in the future. The current behavior is equivalent to passing `weights=ResNet18_Weights.IMAGENET1K_V1`. You can also use `weights=ResNet18_Weights.DEFAULT` to get the most up-to-date weights.\n",
      "  warnings.warn(msg)\n"
     ]
    }
   ],
   "source": [
    "model18_pretrained=resnet18(pretrained=True)"
   ]
  },
  {
   "cell_type": "code",
   "execution_count": 22,
   "metadata": {
    "id": "kcP8vIXISW_X"
   },
   "outputs": [],
   "source": [
    "nb_feat_in_last_layer=model18_pretrained.fc.in_features\n",
    "\n",
    "for param in model18_pretrained.parameters():\n",
    "    param.requires_grad=False\n",
    "\n",
    "model18_pretrained.fc=torch.nn.Linear(nb_feat_in_last_layer,len(train_set.class_to_idx))\n",
    "\n",
    "model18_pretrained=model18_pretrained.to(device)\n",
    "\n",
    "criterion = nn.CrossEntropyLoss()\n",
    "optimizer18_pretrained = torch.optim.SGD(model18_pretrained.parameters(), lr=0.01,\n",
    "                      momentum=0.9, weight_decay=5e-4)\n",
    "scheduler18_pretrained = torch.optim.lr_scheduler.CosineAnnealingLR(optimizer18_pretrained, T_max=200)\n",
    "\n"
   ]
  },
  {
   "cell_type": "code",
   "execution_count": 23,
   "metadata": {
    "colab": {
     "base_uri": "https://localhost:8080/"
    },
    "id": "6OVo0tOwSW_Y",
    "outputId": "2daea7df-7421-439c-b6b1-260c95417548"
   },
   "outputs": [
    {
     "name": "stdout",
     "output_type": "stream",
     "text": [
      "\n",
      "Epoch: 0\n",
      "batch index:0| train_loss=2.43 | correct_percentage=10.0\n",
      "batch index:1| train_loss=2.68 | correct_percentage=15.0\n",
      "batch index:2| train_loss=2.56 | correct_percentage=13.33\n",
      "batch index:3| train_loss=2.56 | correct_percentage=15.0\n",
      "batch index:4| train_loss=2.53 | correct_percentage=14.0\n",
      "batch index:5| train_loss=2.5 | correct_percentage=16.67\n",
      "batch index:6| train_loss=2.5 | correct_percentage=17.14\n",
      "batch index:7| train_loss=2.61 | correct_percentage=16.25\n",
      "batch index:8| train_loss=2.74 | correct_percentage=16.67\n",
      "batch index:9| train_loss=2.73 | correct_percentage=19.0\n",
      "\n",
      "Epoch: 1\n",
      "batch index:0| train_loss=2.49 | correct_percentage=20.0\n",
      "batch index:1| train_loss=2.36 | correct_percentage=20.0\n",
      "batch index:2| train_loss=1.94 | correct_percentage=36.67\n",
      "batch index:3| train_loss=2.32 | correct_percentage=32.5\n",
      "batch index:4| train_loss=2.16 | correct_percentage=36.0\n",
      "batch index:5| train_loss=2.28 | correct_percentage=33.33\n",
      "batch index:6| train_loss=2.24 | correct_percentage=32.86\n",
      "batch index:7| train_loss=2.15 | correct_percentage=32.5\n",
      "batch index:8| train_loss=2.15 | correct_percentage=33.33\n",
      "batch index:9| train_loss=2.23 | correct_percentage=33.0\n",
      "\n",
      "Epoch: 2\n",
      "batch index:0| train_loss=1.2 | correct_percentage=60.0\n",
      "batch index:1| train_loss=2.0 | correct_percentage=50.0\n",
      "batch index:2| train_loss=1.58 | correct_percentage=53.33\n",
      "batch index:3| train_loss=1.85 | correct_percentage=52.5\n",
      "batch index:4| train_loss=1.93 | correct_percentage=50.0\n",
      "batch index:5| train_loss=1.88 | correct_percentage=50.0\n",
      "batch index:6| train_loss=1.83 | correct_percentage=48.57\n",
      "batch index:7| train_loss=1.77 | correct_percentage=50.0\n",
      "batch index:8| train_loss=1.7 | correct_percentage=53.33\n",
      "batch index:9| train_loss=1.72 | correct_percentage=54.0\n",
      "\n",
      "Epoch: 3\n",
      "batch index:0| train_loss=2.46 | correct_percentage=50.0\n",
      "batch index:1| train_loss=2.24 | correct_percentage=50.0\n",
      "batch index:2| train_loss=2.37 | correct_percentage=43.33\n",
      "batch index:3| train_loss=2.26 | correct_percentage=40.0\n",
      "batch index:4| train_loss=2.27 | correct_percentage=40.0\n",
      "batch index:5| train_loss=2.1 | correct_percentage=45.0\n",
      "batch index:6| train_loss=1.98 | correct_percentage=48.57\n",
      "batch index:7| train_loss=2.03 | correct_percentage=46.25\n",
      "batch index:8| train_loss=1.99 | correct_percentage=46.67\n",
      "batch index:9| train_loss=2.5 | correct_percentage=44.0\n",
      "\n",
      "Epoch: 4\n",
      "batch index:0| train_loss=2.5 | correct_percentage=50.0\n",
      "batch index:1| train_loss=1.84 | correct_percentage=50.0\n",
      "batch index:2| train_loss=1.85 | correct_percentage=56.67\n",
      "batch index:3| train_loss=1.8 | correct_percentage=57.5\n",
      "batch index:4| train_loss=1.79 | correct_percentage=58.0\n",
      "batch index:5| train_loss=2.0 | correct_percentage=56.67\n",
      "batch index:6| train_loss=2.23 | correct_percentage=55.71\n",
      "batch index:7| train_loss=2.41 | correct_percentage=51.25\n",
      "batch index:8| train_loss=2.36 | correct_percentage=51.11\n",
      "batch index:9| train_loss=2.42 | correct_percentage=50.0\n",
      "\n",
      "Epoch: 5\n",
      "batch index:0| train_loss=0.91 | correct_percentage=80.0\n",
      "batch index:1| train_loss=3.85 | correct_percentage=55.0\n",
      "batch index:2| train_loss=2.9 | correct_percentage=60.0\n",
      "batch index:3| train_loss=2.62 | correct_percentage=60.0\n",
      "batch index:4| train_loss=2.24 | correct_percentage=58.0\n",
      "batch index:5| train_loss=1.99 | correct_percentage=61.67\n",
      "batch index:6| train_loss=1.87 | correct_percentage=62.86\n",
      "batch index:7| train_loss=1.92 | correct_percentage=60.0\n",
      "batch index:8| train_loss=1.81 | correct_percentage=61.11\n",
      "batch index:9| train_loss=1.87 | correct_percentage=61.0\n",
      "\n",
      "Epoch: 6\n",
      "batch index:0| train_loss=0.89 | correct_percentage=70.0\n",
      "batch index:1| train_loss=0.87 | correct_percentage=60.0\n",
      "batch index:2| train_loss=0.93 | correct_percentage=53.33\n",
      "batch index:3| train_loss=0.76 | correct_percentage=62.5\n",
      "batch index:4| train_loss=0.82 | correct_percentage=66.0\n",
      "batch index:5| train_loss=0.92 | correct_percentage=65.0\n",
      "batch index:6| train_loss=1.11 | correct_percentage=64.29\n",
      "batch index:7| train_loss=1.12 | correct_percentage=63.75\n",
      "batch index:8| train_loss=1.47 | correct_percentage=60.0\n",
      "batch index:9| train_loss=1.58 | correct_percentage=57.0\n",
      "\n",
      "Epoch: 7\n",
      "batch index:0| train_loss=1.73 | correct_percentage=50.0\n",
      "batch index:1| train_loss=2.56 | correct_percentage=45.0\n",
      "batch index:2| train_loss=2.52 | correct_percentage=50.0\n",
      "batch index:3| train_loss=1.94 | correct_percentage=60.0\n",
      "batch index:4| train_loss=1.81 | correct_percentage=56.0\n",
      "batch index:5| train_loss=1.69 | correct_percentage=60.0\n",
      "batch index:6| train_loss=1.73 | correct_percentage=58.57\n",
      "batch index:7| train_loss=1.7 | correct_percentage=57.5\n",
      "batch index:8| train_loss=1.7 | correct_percentage=58.89\n",
      "batch index:9| train_loss=1.63 | correct_percentage=60.0\n",
      "\n",
      "Epoch: 8\n",
      "batch index:0| train_loss=2.03 | correct_percentage=60.0\n",
      "batch index:1| train_loss=1.86 | correct_percentage=55.0\n",
      "batch index:2| train_loss=1.75 | correct_percentage=63.33\n",
      "batch index:3| train_loss=1.48 | correct_percentage=70.0\n",
      "batch index:4| train_loss=2.06 | correct_percentage=64.0\n",
      "batch index:5| train_loss=2.03 | correct_percentage=61.67\n",
      "batch index:6| train_loss=1.88 | correct_percentage=62.86\n",
      "batch index:7| train_loss=1.73 | correct_percentage=63.75\n",
      "batch index:8| train_loss=1.64 | correct_percentage=64.44\n",
      "batch index:9| train_loss=1.59 | correct_percentage=63.0\n",
      "\n",
      "Epoch: 9\n",
      "batch index:0| train_loss=0.57 | correct_percentage=80.0\n",
      "batch index:1| train_loss=1.71 | correct_percentage=65.0\n",
      "batch index:2| train_loss=2.0 | correct_percentage=60.0\n",
      "batch index:3| train_loss=1.71 | correct_percentage=62.5\n",
      "batch index:4| train_loss=1.6 | correct_percentage=64.0\n",
      "batch index:5| train_loss=1.7 | correct_percentage=61.67\n",
      "batch index:6| train_loss=1.56 | correct_percentage=64.29\n",
      "batch index:7| train_loss=1.86 | correct_percentage=61.25\n",
      "batch index:8| train_loss=1.77 | correct_percentage=61.11\n",
      "batch index:9| train_loss=1.67 | correct_percentage=63.0\n"
     ]
    }
   ],
   "source": [
    "for epoch in range(0,10):\n",
    "    train(model18_pretrained,epoch,criterion,optimizer18_pretrained,scheduler18_pretrained,train_loader)\n",
    "    scheduler18_pretrained.step()"
   ]
  },
  {
   "cell_type": "code",
   "execution_count": 24,
   "metadata": {
    "colab": {
     "base_uri": "https://localhost:8080/"
    },
    "id": "QUjesANdSW_Y",
    "outputId": "bd815d6f-aa26-420e-e46d-beced082d959"
   },
   "outputs": [],
   "source": [
    "# print(f\"Accuracy on train set: {predict(model18_pretrained,train_loader)[1]}\")\n",
    "# print(f\"Accuracy on train set: {predict(model18_pretrained,test_loader)[1]}\")"
   ]
  },
  {
   "cell_type": "code",
   "execution_count": 25,
   "metadata": {},
   "outputs": [],
   "source": [
    "model_pretrained_train_accuracy=predict(model18_pretrained,train_loader)[1]\n",
    "model_pretrained_test_accuracy=predict(model18_pretrained,test_loader)[1]"
   ]
  },
  {
   "cell_type": "code",
   "execution_count": 26,
   "metadata": {},
   "outputs": [],
   "source": [
    "results.loc[1] = ['ResNet-18 (pretrained)', 10, model_pretrained_train_accuracy,model_pretrained_test_accuracy]\n"
   ]
  },
  {
   "cell_type": "code",
   "execution_count": 27,
   "metadata": {},
   "outputs": [
    {
     "data": {
      "text/html": [
       "<div>\n",
       "<style scoped>\n",
       "    .dataframe tbody tr th:only-of-type {\n",
       "        vertical-align: middle;\n",
       "    }\n",
       "\n",
       "    .dataframe tbody tr th {\n",
       "        vertical-align: top;\n",
       "    }\n",
       "\n",
       "    .dataframe thead th {\n",
       "        text-align: right;\n",
       "    }\n",
       "</style>\n",
       "<table border=\"1\" class=\"dataframe\">\n",
       "  <thead>\n",
       "    <tr style=\"text-align: right;\">\n",
       "      <th></th>\n",
       "      <th>Model</th>\n",
       "      <th>Number of epochs</th>\n",
       "      <th>Train accuracy</th>\n",
       "      <th>Test accuracy</th>\n",
       "    </tr>\n",
       "  </thead>\n",
       "  <tbody>\n",
       "    <tr>\n",
       "      <th>0</th>\n",
       "      <td>ResNet-18 (from scratch)</td>\n",
       "      <td>10</td>\n",
       "      <td>79.0</td>\n",
       "      <td>17.71</td>\n",
       "    </tr>\n",
       "    <tr>\n",
       "      <th>1</th>\n",
       "      <td>ResNet-18 (pretrained)</td>\n",
       "      <td>10</td>\n",
       "      <td>85.0</td>\n",
       "      <td>21.59</td>\n",
       "    </tr>\n",
       "  </tbody>\n",
       "</table>\n",
       "</div>"
      ],
      "text/plain": [
       "                      Model  Number of epochs  Train accuracy  Test accuracy\n",
       "0  ResNet-18 (from scratch)  10                79.0            17.71        \n",
       "1  ResNet-18 (pretrained)    10                85.0            21.59        "
      ]
     },
     "metadata": {},
     "output_type": "display_data"
    }
   ],
   "source": [
    "display(results)"
   ]
  },
  {
   "cell_type": "markdown",
   "metadata": {
    "id": "qm6Rq5oDUtWX"
   },
   "source": []
  },
  {
   "cell_type": "markdown",
   "metadata": {
    "cell_ktag": "D/50KWKDV3wr",
    "id": "SvkuMzLs_2hk"
   },
   "source": [
    "# Incorporating *a priori*\n",
    "Geometrical *a priori* are appealing for image classification tasks, though one might have to handle several boundary effects.\n",
    "\n",
    "__Question 5 (0.5 points) :__ Explain the issues when dealing with translations, rotations, scaling effects, color changes on $32\\times32$ images. Propose several ideas to tackle them."
   ]
  },
  {
   "cell_type": "markdown",
   "metadata": {
    "cell_ktag": "D/50KWKDV3wr",
    "id": "TIaY60o1_2hk"
   },
   "source": []
  },
  {
   "cell_type": "markdown",
   "metadata": {
    "cell_ktag": "D/50KWKDV3wr",
    "id": "ds6e6teG_2hk"
   },
   "source": [
    "## Data augmentations"
   ]
  },
  {
   "cell_type": "markdown",
   "metadata": {
    "cell_ktag": "D/50KWKDV3wr",
    "id": "-Ek5wlOo_2hk"
   },
   "source": [
    "__Question 6 (4 points):__ Propose a set of geometric transformation beyond translation, and incorporate them in your training pipeline. Train the model of the __Question 3__ with them and report the accuracies."
   ]
  },
  {
   "cell_type": "markdown",
   "metadata": {
    "id": "cRztqm4uSW_Z"
   },
   "source": [
    "## Random Rotation"
   ]
  },
  {
   "cell_type": "code",
   "execution_count": 28,
   "metadata": {
    "cell_ktag": "D/50KWKDV3wr",
    "id": "FqCjrXGk_2hk"
   },
   "outputs": [],
   "source": [
    "transform1 = transforms.Compose([\n",
    "    transforms.ToPILImage(),\n",
    "#     transforms.RandomCrop((224, 224)),\n",
    "#     transforms.ColorJitter(brightness=0.5),\n",
    "    transforms.RandomRotation(degrees=45),\n",
    "#     transforms.RandomHorizontalFlip(p=0.5),\n",
    "#     transforms.RandomGrayscale(p=0.2),\n",
    "    transforms.ToTensor(),\n",
    "    transforms.Lambda(lambda x: x.float()),\n",
    "    transforms.Normalize((0.5, 0.5, 0.5), (0.5, 0.5, 0.5))\n",
    "])\n",
    "\n",
    "transform2 = transforms.Compose([\n",
    "    transforms.ToPILImage(),\n",
    "#     transforms.RandomCrop((224, 224)),\n",
    "    transforms.ColorJitter(brightness=0.5),\n",
    "#     transforms.RandomRotation(degrees=45),\n",
    "    transforms.RandomHorizontalFlip(p=0.5),\n",
    "#     transforms.RandomGrayscale(p=0.2),\n",
    "    transforms.ToTensor(),\n",
    "    transforms.Lambda(lambda x: x.float()),\n",
    "    transforms.Normalize((0.5, 0.5, 0.5), (0.5, 0.5, 0.5))\n",
    "])\n",
    "\n",
    "transform3 = transforms.Compose([\n",
    "    transforms.ToPILImage(),\n",
    "#     transforms.RandomCrop((224, 224)),\n",
    "#     transforms.ColorJitter(brightness=0.5),\n",
    "#     transforms.RandomRotation(degrees=45),\n",
    "#     transforms.RandomHorizontalFlip(p=0.5),\n",
    "    transforms.RandomGrayscale(p=0.2),\n",
    "    transforms.ToTensor(),\n",
    "    transforms.Lambda(lambda x: x.float()),\n",
    "    transforms.Normalize((0.5, 0.5, 0.5), (0.5, 0.5, 0.5))\n",
    "])\n",
    "\n"
   ]
  },
  {
   "cell_type": "code",
   "execution_count": 29,
   "metadata": {
    "id": "x5Y5TvcZSW_a"
   },
   "outputs": [],
   "source": [
    "def augmented_trainloader(transforms,original_subset):\n",
    "    augmented_dataset = []\n",
    "    print('results after applying transformation \\n')\n",
    "    for idx in range(len(original_subset)):\n",
    "\n",
    "        img, label = original_subset[idx]\n",
    "        augmented_img = transform1(img)\n",
    "        augmented_dataset.append((augmented_img, label))\n",
    "\n",
    "        if idx%20==0:\n",
    "\n",
    "            fig, axes = plt.subplots(nrows=1, ncols=2, figsize=(20, 5))\n",
    "            ax_img = axes[0]\n",
    "            ax_img.imshow(np.transpose(img, (1, 2, 0)))\n",
    "            ax_img.set_title(f\"original image\")\n",
    "            ax_img.axis('off')\n",
    "\n",
    "            ax_augmented_img = axes[1]\n",
    "            ax_augmented_img.imshow(np.transpose(augmented_img, (1, 2, 0)))\n",
    "            ax_augmented_img.set_title(f\"augmented image\")\n",
    "            ax_augmented_img.axis('off')\n",
    "\n",
    "    concatenated_dataset = torch.utils.data.ConcatDataset([original_subset, augmented_dataset])\n",
    "    train_loader = DataLoader(concatenated_dataset, batch_size=batch_size, shuffle=True)\n",
    "    plt.show()\n",
    "    return train_loader"
   ]
  },
  {
   "cell_type": "code",
   "execution_count": 30,
   "metadata": {
    "colab": {
     "base_uri": "https://localhost:8080/",
     "height": 1000
    },
    "id": "RqoTmbtSSW_j",
    "outputId": "28135216-dd65-4bf5-c052-3236444081cd"
   },
   "outputs": [
    {
     "name": "stderr",
     "output_type": "stream",
     "text": [
      "Clipping input data to the valid range for imshow with RGB data ([0..1] for floats or [0..255] for integers).\n",
      "Clipping input data to the valid range for imshow with RGB data ([0..1] for floats or [0..255] for integers).\n",
      "Clipping input data to the valid range for imshow with RGB data ([0..1] for floats or [0..255] for integers).\n",
      "Clipping input data to the valid range for imshow with RGB data ([0..1] for floats or [0..255] for integers).\n",
      "Clipping input data to the valid range for imshow with RGB data ([0..1] for floats or [0..255] for integers).\n",
      "Clipping input data to the valid range for imshow with RGB data ([0..1] for floats or [0..255] for integers).\n"
     ]
    },
    {
     "name": "stdout",
     "output_type": "stream",
     "text": [
      "results after applying transformation \n",
      "\n"
     ]
    },
    {
     "name": "stderr",
     "output_type": "stream",
     "text": [
      "Clipping input data to the valid range for imshow with RGB data ([0..1] for floats or [0..255] for integers).\n",
      "Clipping input data to the valid range for imshow with RGB data ([0..1] for floats or [0..255] for integers).\n",
      "Clipping input data to the valid range for imshow with RGB data ([0..1] for floats or [0..255] for integers).\n",
      "Clipping input data to the valid range for imshow with RGB data ([0..1] for floats or [0..255] for integers).\n"
     ]
    },
    {
     "data": {
      "image/png": "[encoded data removed]",
      "text/plain": [
       "<Figure size 2000x500 with 2 Axes>"
      ]
     },
     "metadata": {},
     "output_type": "display_data"
    },
    {
     "data": {
      "image/png": "[encoded data removed]",
      "text/plain": [
       "<Figure size 2000x500 with 2 Axes>"
      ]
     },
     "metadata": {},
     "output_type": "display_data"
    },
    {
     "data": {
      "image/png": "[encoded data removed]",
      "text/plain": [
       "<Figure size 2000x500 with 2 Axes>"
      ]
     },
     "metadata": {},
     "output_type": "display_data"
    },
    {
     "data": {
      "image/png": "[encoded data removed]",
      "text/plain": [
       "<Figure size 2000x500 with 2 Axes>"
      ]
     },
     "metadata": {},
     "output_type": "display_data"
    },
    {
     "data": {
      "image/png": "[encoded data removed]",
      "text/plain": [
       "<Figure size 2000x500 with 2 Axes>"
      ]
     },
     "metadata": {},
     "output_type": "display_data"
    },
    {
     "name": "stderr",
     "output_type": "stream",
     "text": [
      "Clipping input data to the valid range for imshow with RGB data ([0..1] for floats or [0..255] for integers).\n",
      "Clipping input data to the valid range for imshow with RGB data ([0..1] for floats or [0..255] for integers).\n",
      "Clipping input data to the valid range for imshow with RGB data ([0..1] for floats or [0..255] for integers).\n",
      "Clipping input data to the valid range for imshow with RGB data ([0..1] for floats or [0..255] for integers).\n",
      "Clipping input data to the valid range for imshow with RGB data ([0..1] for floats or [0..255] for integers).\n",
      "Clipping input data to the valid range for imshow with RGB data ([0..1] for floats or [0..255] for integers).\n",
      "Clipping input data to the valid range for imshow with RGB data ([0..1] for floats or [0..255] for integers).\n",
      "Clipping input data to the valid range for imshow with RGB data ([0..1] for floats or [0..255] for integers).\n",
      "Clipping input data to the valid range for imshow with RGB data ([0..1] for floats or [0..255] for integers).\n",
      "Clipping input data to the valid range for imshow with RGB data ([0..1] for floats or [0..255] for integers).\n"
     ]
    },
    {
     "name": "stdout",
     "output_type": "stream",
     "text": [
      "results after applying transformation \n",
      "\n"
     ]
    },
    {
     "data": {
      "image/png": "[encoded data removed]",
      "text/plain": [
       "<Figure size 2000x500 with 2 Axes>"
      ]
     },
     "metadata": {},
     "output_type": "display_data"
    },
    {
     "data": {
      "image/png": "[encoded data removed]",
      "text/plain": [
       "<Figure size 2000x500 with 2 Axes>"
      ]
     },
     "metadata": {},
     "output_type": "display_data"
    },
    {
     "data": {
      "image/png": "[encoded data removed]",
      "text/plain": [
       "<Figure size 2000x500 with 2 Axes>"
      ]
     },
     "metadata": {},
     "output_type": "display_data"
    },
    {
     "data": {
      "image/png": "[encoded data removed]",
      "text/plain": [
       "<Figure size 2000x500 with 2 Axes>"
      ]
     },
     "metadata": {},
     "output_type": "display_data"
    },
    {
     "data": {
      "image/png": "[encoded data removed]",
      "text/plain": [
       "<Figure size 2000x500 with 2 Axes>"
      ]
     },
     "metadata": {},
     "output_type": "display_data"
    },
    {
     "name": "stderr",
     "output_type": "stream",
     "text": [
      "Clipping input data to the valid range for imshow with RGB data ([0..1] for floats or [0..255] for integers).\n",
      "Clipping input data to the valid range for imshow with RGB data ([0..1] for floats or [0..255] for integers).\n",
      "Clipping input data to the valid range for imshow with RGB data ([0..1] for floats or [0..255] for integers).\n",
      "Clipping input data to the valid range for imshow with RGB data ([0..1] for floats or [0..255] for integers).\n",
      "Clipping input data to the valid range for imshow with RGB data ([0..1] for floats or [0..255] for integers).\n",
      "Clipping input data to the valid range for imshow with RGB data ([0..1] for floats or [0..255] for integers).\n",
      "Clipping input data to the valid range for imshow with RGB data ([0..1] for floats or [0..255] for integers).\n",
      "Clipping input data to the valid range for imshow with RGB data ([0..1] for floats or [0..255] for integers).\n",
      "Clipping input data to the valid range for imshow with RGB data ([0..1] for floats or [0..255] for integers).\n",
      "Clipping input data to the valid range for imshow with RGB data ([0..1] for floats or [0..255] for integers).\n"
     ]
    },
    {
     "name": "stdout",
     "output_type": "stream",
     "text": [
      "results after applying transformation \n",
      "\n"
     ]
    },
    {
     "data": {
      "image/png": "[encoded data removed]",
      "text/plain": [
       "<Figure size 2000x500 with 2 Axes>"
      ]
     },
     "metadata": {},
     "output_type": "display_data"
    },
    {
     "data": {
      "image/png": "[encoded data removed]",
      "text/plain": [
       "<Figure size 2000x500 with 2 Axes>"
      ]
     },
     "metadata": {},
     "output_type": "display_data"
    },
    {
     "data": {
      "image/png": "[encoded data removed]",
      "text/plain": [
       "<Figure size 2000x500 with 2 Axes>"
      ]
     },
     "metadata": {},
     "output_type": "display_data"
    },
    {
     "data": {
      "image/png": "[encoded data removed]",
      "text/plain": [
       "<Figure size 2000x500 with 2 Axes>"
      ]
     },
     "metadata": {},
     "output_type": "display_data"
    },
    {
     "data": {
      "image/png": "[encoded data removed]",
      "text/plain": [
       "<Figure size 2000x500 with 2 Axes>"
      ]
     },
     "metadata": {},
     "output_type": "display_data"
    }
   ],
   "source": [
    "train_loader_1= augmented_trainloader(transform1,original_subset)\n",
    "train_loader_2= augmented_trainloader(transform1,original_subset)\n",
    "train_loader_3= augmented_trainloader(transform1,original_subset)"
   ]
  },
  {
   "cell_type": "code",
   "execution_count": 31,
   "metadata": {
    "colab": {
     "base_uri": "https://localhost:8080/"
    },
    "id": "YgxYvOJSSW_k",
    "outputId": "f03f0a9f-4929-4c6d-dff8-825ddf9ef0ed"
   },
   "outputs": [
    {
     "name": "stdout",
     "output_type": "stream",
     "text": [
      "\n",
      "Epoch: 0\n",
      "batch index:0| train_loss=2.62 | correct_percentage=0.0\n",
      "batch index:1| train_loss=2.53 | correct_percentage=10.0\n",
      "batch index:2| train_loss=2.49 | correct_percentage=16.67\n",
      "batch index:3| train_loss=2.46 | correct_percentage=15.0\n",
      "batch index:4| train_loss=2.48 | correct_percentage=16.0\n",
      "batch index:5| train_loss=2.69 | correct_percentage=13.33\n",
      "batch index:6| train_loss=2.62 | correct_percentage=12.86\n",
      "batch index:7| train_loss=2.63 | correct_percentage=13.75\n",
      "batch index:8| train_loss=2.6 | correct_percentage=13.33\n",
      "batch index:9| train_loss=2.6 | correct_percentage=13.0\n",
      "batch index:10| train_loss=2.66 | correct_percentage=12.73\n",
      "batch index:11| train_loss=2.72 | correct_percentage=12.5\n",
      "batch index:12| train_loss=2.74 | correct_percentage=12.31\n",
      "batch index:13| train_loss=2.74 | correct_percentage=12.14\n",
      "batch index:14| train_loss=2.73 | correct_percentage=14.0\n",
      "batch index:15| train_loss=2.74 | correct_percentage=13.75\n",
      "batch index:16| train_loss=2.71 | correct_percentage=14.12\n",
      "batch index:17| train_loss=2.71 | correct_percentage=13.89\n",
      "batch index:18| train_loss=2.7 | correct_percentage=14.21\n",
      "batch index:19| train_loss=2.7 | correct_percentage=15.0\n",
      "\n",
      "Epoch: 1\n",
      "batch index:0| train_loss=1.88 | correct_percentage=50.0\n",
      "batch index:1| train_loss=2.17 | correct_percentage=35.0\n",
      "batch index:2| train_loss=2.36 | correct_percentage=30.0\n",
      "batch index:3| train_loss=2.62 | correct_percentage=25.0\n",
      "batch index:4| train_loss=2.85 | correct_percentage=26.0\n",
      "batch index:5| train_loss=2.81 | correct_percentage=26.67\n",
      "batch index:6| train_loss=2.76 | correct_percentage=27.14\n",
      "batch index:7| train_loss=2.77 | correct_percentage=23.75\n",
      "batch index:8| train_loss=2.72 | correct_percentage=22.22\n",
      "batch index:9| train_loss=2.77 | correct_percentage=22.0\n",
      "batch index:10| train_loss=2.79 | correct_percentage=22.73\n",
      "batch index:11| train_loss=2.73 | correct_percentage=25.0\n",
      "batch index:12| train_loss=2.72 | correct_percentage=24.62\n",
      "batch index:13| train_loss=2.81 | correct_percentage=22.86\n",
      "batch index:14| train_loss=2.77 | correct_percentage=23.33\n",
      "batch index:15| train_loss=2.76 | correct_percentage=21.88\n",
      "batch index:16| train_loss=2.81 | correct_percentage=21.76\n",
      "batch index:17| train_loss=2.87 | correct_percentage=20.56\n",
      "batch index:18| train_loss=2.92 | correct_percentage=19.47\n",
      "batch index:19| train_loss=2.9 | correct_percentage=20.0\n",
      "\n",
      "Epoch: 2\n",
      "batch index:0| train_loss=2.36 | correct_percentage=10.0\n",
      "batch index:1| train_loss=2.83 | correct_percentage=5.0\n",
      "batch index:2| train_loss=2.81 | correct_percentage=10.0\n",
      "batch index:3| train_loss=2.71 | correct_percentage=12.5\n",
      "batch index:4| train_loss=2.79 | correct_percentage=14.0\n",
      "batch index:5| train_loss=2.8 | correct_percentage=13.33\n",
      "batch index:6| train_loss=2.81 | correct_percentage=12.86\n",
      "batch index:7| train_loss=2.75 | correct_percentage=11.25\n",
      "batch index:8| train_loss=2.75 | correct_percentage=12.22\n",
      "batch index:9| train_loss=2.72 | correct_percentage=12.0\n",
      "batch index:10| train_loss=2.7 | correct_percentage=11.82\n",
      "batch index:11| train_loss=2.7 | correct_percentage=13.33\n",
      "batch index:12| train_loss=2.76 | correct_percentage=12.31\n",
      "batch index:13| train_loss=2.76 | correct_percentage=12.86\n",
      "batch index:14| train_loss=2.77 | correct_percentage=12.67\n",
      "batch index:15| train_loss=2.78 | correct_percentage=13.12\n",
      "batch index:16| train_loss=2.77 | correct_percentage=12.94\n",
      "batch index:17| train_loss=2.73 | correct_percentage=13.89\n",
      "batch index:18| train_loss=2.69 | correct_percentage=13.68\n",
      "batch index:19| train_loss=2.66 | correct_percentage=15.0\n",
      "\n",
      "Epoch: 3\n",
      "batch index:0| train_loss=2.12 | correct_percentage=30.0\n",
      "batch index:1| train_loss=2.3 | correct_percentage=25.0\n",
      "batch index:2| train_loss=2.34 | correct_percentage=20.0\n",
      "batch index:3| train_loss=2.19 | correct_percentage=25.0\n",
      "batch index:4| train_loss=2.18 | correct_percentage=26.0\n",
      "batch index:5| train_loss=2.28 | correct_percentage=26.67\n",
      "batch index:6| train_loss=2.27 | correct_percentage=28.57\n",
      "batch index:7| train_loss=2.18 | correct_percentage=31.25\n",
      "batch index:8| train_loss=2.25 | correct_percentage=30.0\n",
      "batch index:9| train_loss=2.26 | correct_percentage=29.0\n",
      "batch index:10| train_loss=2.22 | correct_percentage=30.0\n",
      "batch index:11| train_loss=2.2 | correct_percentage=30.83\n",
      "batch index:12| train_loss=2.2 | correct_percentage=30.77\n",
      "batch index:13| train_loss=2.18 | correct_percentage=30.0\n",
      "batch index:14| train_loss=2.2 | correct_percentage=29.33\n",
      "batch index:15| train_loss=2.18 | correct_percentage=29.38\n",
      "batch index:16| train_loss=2.19 | correct_percentage=28.82\n",
      "batch index:17| train_loss=2.21 | correct_percentage=28.33\n",
      "batch index:18| train_loss=2.21 | correct_percentage=27.89\n",
      "batch index:19| train_loss=2.22 | correct_percentage=27.0\n",
      "\n",
      "Epoch: 4\n",
      "batch index:0| train_loss=2.54 | correct_percentage=0.0\n",
      "batch index:1| train_loss=2.39 | correct_percentage=5.0\n",
      "batch index:2| train_loss=2.2 | correct_percentage=16.67\n",
      "batch index:3| train_loss=2.24 | correct_percentage=15.0\n",
      "batch index:4| train_loss=2.24 | correct_percentage=16.0\n",
      "batch index:5| train_loss=2.3 | correct_percentage=13.33\n",
      "batch index:6| train_loss=2.3 | correct_percentage=14.29\n",
      "batch index:7| train_loss=2.26 | correct_percentage=17.5\n",
      "batch index:8| train_loss=2.25 | correct_percentage=17.78\n",
      "batch index:9| train_loss=2.18 | correct_percentage=21.0\n",
      "batch index:10| train_loss=2.24 | correct_percentage=19.09\n",
      "batch index:11| train_loss=2.22 | correct_percentage=20.0\n",
      "batch index:12| train_loss=2.29 | correct_percentage=19.23\n",
      "batch index:13| train_loss=2.29 | correct_percentage=17.86\n",
      "batch index:14| train_loss=2.31 | correct_percentage=16.67\n",
      "batch index:15| train_loss=2.28 | correct_percentage=16.88\n",
      "batch index:16| train_loss=2.25 | correct_percentage=17.65\n",
      "batch index:17| train_loss=2.25 | correct_percentage=18.89\n",
      "batch index:18| train_loss=2.25 | correct_percentage=18.95\n",
      "batch index:19| train_loss=2.24 | correct_percentage=19.0\n",
      "\n",
      "Epoch: 5\n",
      "batch index:0| train_loss=2.16 | correct_percentage=30.0\n",
      "batch index:1| train_loss=2.32 | correct_percentage=25.0\n",
      "batch index:2| train_loss=2.18 | correct_percentage=23.33\n",
      "batch index:3| train_loss=2.2 | correct_percentage=22.5\n",
      "batch index:4| train_loss=2.16 | correct_percentage=22.0\n",
      "batch index:5| train_loss=2.22 | correct_percentage=20.0\n",
      "batch index:6| train_loss=2.24 | correct_percentage=20.0\n",
      "batch index:7| train_loss=2.26 | correct_percentage=18.75\n",
      "batch index:8| train_loss=2.22 | correct_percentage=20.0\n",
      "batch index:9| train_loss=2.18 | correct_percentage=21.0\n",
      "batch index:10| train_loss=2.17 | correct_percentage=20.91\n",
      "batch index:11| train_loss=2.19 | correct_percentage=19.17\n",
      "batch index:12| train_loss=2.19 | correct_percentage=19.23\n",
      "batch index:13| train_loss=2.21 | correct_percentage=17.86\n",
      "batch index:14| train_loss=2.19 | correct_percentage=18.67\n",
      "batch index:15| train_loss=2.18 | correct_percentage=17.5\n",
      "batch index:16| train_loss=2.16 | correct_percentage=18.82\n",
      "batch index:17| train_loss=2.15 | correct_percentage=19.44\n",
      "batch index:18| train_loss=2.15 | correct_percentage=19.47\n",
      "batch index:19| train_loss=2.16 | correct_percentage=20.5\n",
      "\n",
      "Epoch: 6\n",
      "batch index:0| train_loss=1.91 | correct_percentage=50.0\n",
      "batch index:1| train_loss=2.1 | correct_percentage=40.0\n",
      "batch index:2| train_loss=1.85 | correct_percentage=43.33\n",
      "batch index:3| train_loss=2.03 | correct_percentage=37.5\n",
      "batch index:4| train_loss=2.04 | correct_percentage=34.0\n",
      "batch index:5| train_loss=1.99 | correct_percentage=35.0\n",
      "batch index:6| train_loss=1.96 | correct_percentage=35.71\n",
      "batch index:7| train_loss=2.0 | correct_percentage=33.75\n",
      "batch index:8| train_loss=1.98 | correct_percentage=33.33\n",
      "batch index:9| train_loss=1.96 | correct_percentage=33.0\n",
      "batch index:10| train_loss=1.98 | correct_percentage=33.64\n",
      "batch index:11| train_loss=1.99 | correct_percentage=32.5\n",
      "batch index:12| train_loss=2.01 | correct_percentage=32.31\n",
      "batch index:13| train_loss=2.04 | correct_percentage=30.71\n",
      "batch index:14| train_loss=2.02 | correct_percentage=30.67\n",
      "batch index:15| train_loss=2.01 | correct_percentage=30.0\n",
      "batch index:16| train_loss=2.03 | correct_percentage=30.59\n",
      "batch index:17| train_loss=2.02 | correct_percentage=30.56\n",
      "batch index:18| train_loss=2.01 | correct_percentage=31.05\n",
      "batch index:19| train_loss=1.99 | correct_percentage=31.0\n",
      "\n",
      "Epoch: 7\n",
      "batch index:0| train_loss=1.57 | correct_percentage=40.0\n",
      "batch index:1| train_loss=1.86 | correct_percentage=40.0\n"
     ]
    },
    {
     "name": "stdout",
     "output_type": "stream",
     "text": [
      "batch index:2| train_loss=1.74 | correct_percentage=46.67\n",
      "batch index:3| train_loss=1.59 | correct_percentage=52.5\n",
      "batch index:4| train_loss=1.5 | correct_percentage=56.0\n",
      "batch index:5| train_loss=1.82 | correct_percentage=50.0\n",
      "batch index:6| train_loss=1.87 | correct_percentage=45.71\n",
      "batch index:7| train_loss=1.81 | correct_percentage=43.75\n",
      "batch index:8| train_loss=1.91 | correct_percentage=40.0\n",
      "batch index:9| train_loss=1.87 | correct_percentage=42.0\n",
      "batch index:10| train_loss=1.86 | correct_percentage=41.82\n",
      "batch index:11| train_loss=1.83 | correct_percentage=43.33\n",
      "batch index:12| train_loss=1.8 | correct_percentage=43.85\n",
      "batch index:13| train_loss=1.76 | correct_percentage=43.57\n",
      "batch index:14| train_loss=1.82 | correct_percentage=42.0\n",
      "batch index:15| train_loss=1.89 | correct_percentage=42.5\n",
      "batch index:16| train_loss=1.96 | correct_percentage=41.18\n",
      "batch index:17| train_loss=1.99 | correct_percentage=40.0\n",
      "batch index:18| train_loss=1.96 | correct_percentage=41.05\n",
      "batch index:19| train_loss=1.94 | correct_percentage=41.0\n",
      "\n",
      "Epoch: 8\n",
      "batch index:0| train_loss=1.69 | correct_percentage=40.0\n",
      "batch index:1| train_loss=1.61 | correct_percentage=35.0\n",
      "batch index:2| train_loss=1.4 | correct_percentage=46.67\n",
      "batch index:3| train_loss=1.86 | correct_percentage=35.0\n",
      "batch index:4| train_loss=1.8 | correct_percentage=36.0\n",
      "batch index:5| train_loss=1.8 | correct_percentage=36.67\n",
      "batch index:6| train_loss=1.84 | correct_percentage=35.71\n",
      "batch index:7| train_loss=1.84 | correct_percentage=33.75\n",
      "batch index:8| train_loss=1.83 | correct_percentage=34.44\n",
      "batch index:9| train_loss=1.85 | correct_percentage=33.0\n",
      "batch index:10| train_loss=1.88 | correct_percentage=32.73\n",
      "batch index:11| train_loss=1.85 | correct_percentage=35.0\n",
      "batch index:12| train_loss=1.88 | correct_percentage=33.85\n",
      "batch index:13| train_loss=1.85 | correct_percentage=35.71\n",
      "batch index:14| train_loss=1.87 | correct_percentage=35.33\n",
      "batch index:15| train_loss=1.84 | correct_percentage=36.88\n",
      "batch index:16| train_loss=1.82 | correct_percentage=38.24\n",
      "batch index:17| train_loss=1.81 | correct_percentage=38.89\n",
      "batch index:18| train_loss=1.78 | correct_percentage=39.47\n",
      "batch index:19| train_loss=1.77 | correct_percentage=40.0\n",
      "\n",
      "Epoch: 9\n",
      "batch index:0| train_loss=1.28 | correct_percentage=50.0\n",
      "batch index:1| train_loss=1.4 | correct_percentage=50.0\n",
      "batch index:2| train_loss=1.31 | correct_percentage=46.67\n",
      "batch index:3| train_loss=1.41 | correct_percentage=42.5\n",
      "batch index:4| train_loss=1.46 | correct_percentage=40.0\n",
      "batch index:5| train_loss=1.63 | correct_percentage=36.67\n",
      "batch index:6| train_loss=1.66 | correct_percentage=37.14\n",
      "batch index:7| train_loss=1.61 | correct_percentage=40.0\n",
      "batch index:8| train_loss=1.61 | correct_percentage=41.11\n",
      "batch index:9| train_loss=1.62 | correct_percentage=41.0\n",
      "batch index:10| train_loss=1.6 | correct_percentage=40.91\n",
      "batch index:11| train_loss=1.64 | correct_percentage=40.83\n",
      "batch index:12| train_loss=1.61 | correct_percentage=41.54\n",
      "batch index:13| train_loss=1.63 | correct_percentage=40.71\n",
      "batch index:14| train_loss=1.59 | correct_percentage=41.33\n",
      "batch index:15| train_loss=1.59 | correct_percentage=41.88\n",
      "batch index:16| train_loss=1.6 | correct_percentage=42.35\n",
      "batch index:17| train_loss=1.59 | correct_percentage=43.33\n",
      "batch index:18| train_loss=1.57 | correct_percentage=44.74\n",
      "batch index:19| train_loss=1.62 | correct_percentage=43.5\n"
     ]
    }
   ],
   "source": [
    "model_1=ResNet18()\n",
    "device = 'cuda' if torch.cuda.is_available() else 'cpu'\n",
    "model_1.to(device)\n",
    "\n",
    "if device == 'cuda':\n",
    "    model_1 = torch.nn.DataParallel(model_1)\n",
    "    # cudnn.benchmark = True\n",
    "\n",
    "optimizer_1 = torch.optim.SGD(model_1.parameters(), lr=0.01,\n",
    "                      momentum=0.9, weight_decay=5e-4)\n",
    "scheduler_1 = torch.optim.lr_scheduler.CosineAnnealingLR(optimizer_1, T_max=200)\n",
    "\n",
    "for epoch in range(0,10):\n",
    "    train(model_1,epoch,criterion,optimizer_1,scheduler_1,train_loader_1)\n",
    "    scheduler.step()"
   ]
  },
  {
   "cell_type": "code",
   "execution_count": 32,
   "metadata": {
    "colab": {
     "base_uri": "https://localhost:8080/"
    },
    "id": "_xsodxqaVcqQ",
    "outputId": "bbe32127-0649-4227-f8ae-f84243f8419c"
   },
   "outputs": [],
   "source": [
    "# print(f\"Accuracy on train set: {predict(model_1,train_loader)[1]}\")\n",
    "# print(f\"Accuracy on train set: {predict(model_1,test_loader)[1]}\")"
   ]
  },
  {
   "cell_type": "code",
   "execution_count": 33,
   "metadata": {},
   "outputs": [],
   "source": [
    "model_transfo1_train_accuracy=predict(model_1,train_loader)[1]\n",
    "model_transfo1_test_accuracy=predict(model_1,test_loader)[1]"
   ]
  },
  {
   "cell_type": "code",
   "execution_count": 34,
   "metadata": {},
   "outputs": [],
   "source": [
    "results.loc[2] = ['ResNet-18 (from scratch, data augmented rotation)', 10, model_transfo1_train_accuracy,model_transfo1_test_accuracy]"
   ]
  },
  {
   "cell_type": "code",
   "execution_count": 35,
   "metadata": {},
   "outputs": [
    {
     "data": {
      "text/html": [
       "<div>\n",
       "<style scoped>\n",
       "    .dataframe tbody tr th:only-of-type {\n",
       "        vertical-align: middle;\n",
       "    }\n",
       "\n",
       "    .dataframe tbody tr th {\n",
       "        vertical-align: top;\n",
       "    }\n",
       "\n",
       "    .dataframe thead th {\n",
       "        text-align: right;\n",
       "    }\n",
       "</style>\n",
       "<table border=\"1\" class=\"dataframe\">\n",
       "  <thead>\n",
       "    <tr style=\"text-align: right;\">\n",
       "      <th></th>\n",
       "      <th>Model</th>\n",
       "      <th>Number of epochs</th>\n",
       "      <th>Train accuracy</th>\n",
       "      <th>Test accuracy</th>\n",
       "    </tr>\n",
       "  </thead>\n",
       "  <tbody>\n",
       "    <tr>\n",
       "      <th>0</th>\n",
       "      <td>ResNet-18 (from scratch)</td>\n",
       "      <td>10</td>\n",
       "      <td>79.0</td>\n",
       "      <td>17.71</td>\n",
       "    </tr>\n",
       "    <tr>\n",
       "      <th>1</th>\n",
       "      <td>ResNet-18 (pretrained)</td>\n",
       "      <td>10</td>\n",
       "      <td>85.0</td>\n",
       "      <td>21.59</td>\n",
       "    </tr>\n",
       "    <tr>\n",
       "      <th>2</th>\n",
       "      <td>ResNet-18 (from scratch, data augmented rotation)</td>\n",
       "      <td>10</td>\n",
       "      <td>54.0</td>\n",
       "      <td>20.34</td>\n",
       "    </tr>\n",
       "  </tbody>\n",
       "</table>\n",
       "</div>"
      ],
      "text/plain": [
       "                                               Model  Number of epochs  \\\n",
       "0  ResNet-18 (from scratch)                           10                 \n",
       "1  ResNet-18 (pretrained)                             10                 \n",
       "2  ResNet-18 (from scratch, data augmented rotation)  10                 \n",
       "\n",
       "   Train accuracy  Test accuracy  \n",
       "0  79.0            17.71          \n",
       "1  85.0            21.59          \n",
       "2  54.0            20.34          "
      ]
     },
     "metadata": {},
     "output_type": "display_data"
    }
   ],
   "source": [
    "display(results)"
   ]
  },
  {
   "cell_type": "markdown",
   "metadata": {
    "id": "nYkpM9lMVqYR"
   },
   "source": []
  },
  {
   "cell_type": "code",
   "execution_count": 36,
   "metadata": {
    "colab": {
     "base_uri": "https://localhost:8080/"
    },
    "id": "H5-GrD20SW_k",
    "outputId": "ce2abab7-371e-4e31-e467-2d33fefbbb1a"
   },
   "outputs": [
    {
     "name": "stdout",
     "output_type": "stream",
     "text": [
      "\n",
      "Epoch: 0\n",
      "batch index:0| train_loss=2.48 | correct_percentage=0.0\n",
      "batch index:1| train_loss=2.5 | correct_percentage=0.0\n",
      "batch index:2| train_loss=2.51 | correct_percentage=3.33\n",
      "batch index:3| train_loss=2.51 | correct_percentage=5.0\n",
      "batch index:4| train_loss=2.53 | correct_percentage=8.0\n",
      "batch index:5| train_loss=2.58 | correct_percentage=10.0\n",
      "batch index:6| train_loss=2.67 | correct_percentage=8.57\n",
      "batch index:7| train_loss=2.67 | correct_percentage=11.25\n",
      "batch index:8| train_loss=2.64 | correct_percentage=11.11\n",
      "batch index:9| train_loss=2.72 | correct_percentage=11.0\n",
      "batch index:10| train_loss=2.62 | correct_percentage=12.73\n",
      "batch index:11| train_loss=2.65 | correct_percentage=11.67\n",
      "batch index:12| train_loss=2.73 | correct_percentage=10.77\n",
      "batch index:13| train_loss=2.72 | correct_percentage=12.86\n",
      "batch index:14| train_loss=2.7 | correct_percentage=12.67\n",
      "batch index:15| train_loss=2.66 | correct_percentage=13.75\n",
      "batch index:16| train_loss=2.82 | correct_percentage=14.12\n",
      "batch index:17| train_loss=3.0 | correct_percentage=13.89\n",
      "batch index:18| train_loss=3.03 | correct_percentage=13.68\n",
      "batch index:19| train_loss=3.0 | correct_percentage=13.5\n",
      "\n",
      "Epoch: 1\n",
      "batch index:0| train_loss=4.81 | correct_percentage=0.0\n",
      "batch index:1| train_loss=5.0 | correct_percentage=5.0\n",
      "batch index:2| train_loss=4.75 | correct_percentage=3.33\n",
      "batch index:3| train_loss=4.19 | correct_percentage=5.0\n",
      "batch index:4| train_loss=4.11 | correct_percentage=4.0\n",
      "batch index:5| train_loss=4.04 | correct_percentage=5.0\n",
      "batch index:6| train_loss=4.0 | correct_percentage=5.71\n",
      "batch index:7| train_loss=3.88 | correct_percentage=7.5\n",
      "batch index:8| train_loss=3.76 | correct_percentage=7.78\n",
      "batch index:9| train_loss=3.74 | correct_percentage=10.0\n",
      "batch index:10| train_loss=3.6 | correct_percentage=10.0\n",
      "batch index:11| train_loss=3.62 | correct_percentage=10.83\n",
      "batch index:12| train_loss=3.6 | correct_percentage=10.77\n",
      "batch index:13| train_loss=3.55 | correct_percentage=11.43\n",
      "batch index:14| train_loss=3.47 | correct_percentage=13.33\n",
      "batch index:15| train_loss=3.4 | correct_percentage=13.12\n",
      "batch index:16| train_loss=3.33 | correct_percentage=12.94\n",
      "batch index:17| train_loss=3.28 | correct_percentage=13.33\n",
      "batch index:18| train_loss=3.27 | correct_percentage=13.16\n",
      "batch index:19| train_loss=3.22 | correct_percentage=13.5\n",
      "\n",
      "Epoch: 2\n",
      "batch index:0| train_loss=4.57 | correct_percentage=0.0\n",
      "batch index:1| train_loss=3.24 | correct_percentage=15.0\n",
      "batch index:2| train_loss=3.13 | correct_percentage=16.67\n",
      "batch index:3| train_loss=2.92 | correct_percentage=15.0\n",
      "batch index:4| train_loss=2.97 | correct_percentage=16.0\n",
      "batch index:5| train_loss=2.91 | correct_percentage=15.0\n",
      "batch index:6| train_loss=2.93 | correct_percentage=12.86\n",
      "batch index:7| train_loss=2.88 | correct_percentage=11.25\n",
      "batch index:8| train_loss=2.83 | correct_percentage=11.11\n",
      "batch index:9| train_loss=2.85 | correct_percentage=12.0\n",
      "batch index:10| train_loss=2.9 | correct_percentage=11.82\n",
      "batch index:11| train_loss=2.86 | correct_percentage=10.83\n",
      "batch index:12| train_loss=2.86 | correct_percentage=10.77\n",
      "batch index:13| train_loss=2.83 | correct_percentage=10.0\n",
      "batch index:14| train_loss=2.82 | correct_percentage=10.0\n",
      "batch index:15| train_loss=2.82 | correct_percentage=10.0\n",
      "batch index:16| train_loss=2.84 | correct_percentage=9.41\n",
      "batch index:17| train_loss=2.79 | correct_percentage=10.0\n",
      "batch index:18| train_loss=2.74 | correct_percentage=11.58\n",
      "batch index:19| train_loss=2.74 | correct_percentage=12.0\n",
      "\n",
      "Epoch: 3\n",
      "batch index:0| train_loss=2.55 | correct_percentage=10.0\n",
      "batch index:1| train_loss=2.38 | correct_percentage=10.0\n",
      "batch index:2| train_loss=2.5 | correct_percentage=6.67\n",
      "batch index:3| train_loss=2.41 | correct_percentage=10.0\n",
      "batch index:4| train_loss=2.47 | correct_percentage=12.0\n",
      "batch index:5| train_loss=2.46 | correct_percentage=10.0\n",
      "batch index:6| train_loss=2.4 | correct_percentage=8.57\n",
      "batch index:7| train_loss=2.35 | correct_percentage=12.5\n",
      "batch index:8| train_loss=2.35 | correct_percentage=14.44\n",
      "batch index:9| train_loss=2.42 | correct_percentage=14.0\n",
      "batch index:10| train_loss=2.49 | correct_percentage=12.73\n",
      "batch index:11| train_loss=2.52 | correct_percentage=12.5\n",
      "batch index:12| train_loss=2.58 | correct_percentage=12.31\n",
      "batch index:13| train_loss=2.57 | correct_percentage=12.14\n",
      "batch index:14| train_loss=2.53 | correct_percentage=12.67\n",
      "batch index:15| train_loss=2.55 | correct_percentage=12.5\n",
      "batch index:16| train_loss=2.54 | correct_percentage=14.12\n",
      "batch index:17| train_loss=2.56 | correct_percentage=13.33\n",
      "batch index:18| train_loss=2.52 | correct_percentage=14.21\n",
      "batch index:19| train_loss=2.54 | correct_percentage=13.5\n",
      "\n",
      "Epoch: 4\n",
      "batch index:0| train_loss=2.6 | correct_percentage=20.0\n",
      "batch index:1| train_loss=2.22 | correct_percentage=30.0\n",
      "batch index:2| train_loss=2.3 | correct_percentage=20.0\n",
      "batch index:3| train_loss=2.27 | correct_percentage=15.0\n",
      "batch index:4| train_loss=2.38 | correct_percentage=18.0\n",
      "batch index:5| train_loss=2.47 | correct_percentage=18.33\n",
      "batch index:6| train_loss=2.45 | correct_percentage=20.0\n",
      "batch index:7| train_loss=2.46 | correct_percentage=18.75\n",
      "batch index:8| train_loss=2.48 | correct_percentage=16.67\n",
      "batch index:9| train_loss=2.42 | correct_percentage=20.0\n",
      "batch index:10| train_loss=2.46 | correct_percentage=18.18\n",
      "batch index:11| train_loss=2.42 | correct_percentage=18.33\n",
      "batch index:12| train_loss=2.42 | correct_percentage=19.23\n",
      "batch index:13| train_loss=2.41 | correct_percentage=19.29\n",
      "batch index:14| train_loss=2.41 | correct_percentage=20.0\n",
      "batch index:15| train_loss=2.43 | correct_percentage=18.75\n",
      "batch index:16| train_loss=2.43 | correct_percentage=18.82\n",
      "batch index:17| train_loss=2.43 | correct_percentage=18.89\n",
      "batch index:18| train_loss=2.43 | correct_percentage=19.47\n",
      "batch index:19| train_loss=2.44 | correct_percentage=19.5\n",
      "\n",
      "Epoch: 5\n",
      "batch index:0| train_loss=2.41 | correct_percentage=40.0\n",
      "batch index:1| train_loss=2.12 | correct_percentage=35.0\n",
      "batch index:2| train_loss=2.21 | correct_percentage=33.33\n",
      "batch index:3| train_loss=2.48 | correct_percentage=25.0\n",
      "batch index:4| train_loss=2.5 | correct_percentage=22.0\n",
      "batch index:5| train_loss=2.42 | correct_percentage=21.67\n",
      "batch index:6| train_loss=2.54 | correct_percentage=18.57\n",
      "batch index:7| train_loss=2.52 | correct_percentage=17.5\n",
      "batch index:8| train_loss=2.5 | correct_percentage=17.78\n",
      "batch index:9| train_loss=2.49 | correct_percentage=16.0\n",
      "batch index:10| train_loss=2.47 | correct_percentage=18.18\n",
      "batch index:11| train_loss=2.45 | correct_percentage=19.17\n",
      "batch index:12| train_loss=2.43 | correct_percentage=18.46\n",
      "batch index:13| train_loss=2.4 | correct_percentage=20.71\n",
      "batch index:14| train_loss=2.38 | correct_percentage=20.67\n",
      "batch index:15| train_loss=2.45 | correct_percentage=19.38\n",
      "batch index:16| train_loss=2.43 | correct_percentage=18.82\n",
      "batch index:17| train_loss=2.47 | correct_percentage=17.78\n",
      "batch index:18| train_loss=2.48 | correct_percentage=17.89\n",
      "batch index:19| train_loss=2.46 | correct_percentage=18.0\n",
      "\n",
      "Epoch: 6\n",
      "batch index:0| train_loss=2.54 | correct_percentage=10.0\n",
      "batch index:1| train_loss=2.35 | correct_percentage=10.0\n",
      "batch index:2| train_loss=2.3 | correct_percentage=13.33\n",
      "batch index:3| train_loss=2.2 | correct_percentage=15.0\n",
      "batch index:4| train_loss=2.23 | correct_percentage=12.0\n",
      "batch index:5| train_loss=2.28 | correct_percentage=11.67\n",
      "batch index:6| train_loss=2.32 | correct_percentage=10.0\n",
      "batch index:7| train_loss=2.35 | correct_percentage=11.25\n",
      "batch index:8| train_loss=2.36 | correct_percentage=11.11\n",
      "batch index:9| train_loss=2.35 | correct_percentage=12.0\n",
      "batch index:10| train_loss=2.4 | correct_percentage=11.82\n",
      "batch index:11| train_loss=2.39 | correct_percentage=13.33\n",
      "batch index:12| train_loss=2.4 | correct_percentage=13.85\n",
      "batch index:13| train_loss=2.44 | correct_percentage=12.86\n",
      "batch index:14| train_loss=2.43 | correct_percentage=13.33\n",
      "batch index:15| train_loss=2.42 | correct_percentage=13.75\n",
      "batch index:16| train_loss=2.45 | correct_percentage=13.53\n",
      "batch index:17| train_loss=2.43 | correct_percentage=13.33\n",
      "batch index:18| train_loss=2.39 | correct_percentage=15.26\n",
      "batch index:19| train_loss=2.4 | correct_percentage=15.5\n",
      "\n",
      "Epoch: 7\n",
      "batch index:0| train_loss=2.71 | correct_percentage=10.0\n"
     ]
    },
    {
     "name": "stdout",
     "output_type": "stream",
     "text": [
      "batch index:1| train_loss=2.7 | correct_percentage=15.0\n",
      "batch index:2| train_loss=2.47 | correct_percentage=26.67\n",
      "batch index:3| train_loss=2.43 | correct_percentage=20.0\n",
      "batch index:4| train_loss=2.41 | correct_percentage=20.0\n",
      "batch index:5| train_loss=2.44 | correct_percentage=18.33\n",
      "batch index:6| train_loss=2.41 | correct_percentage=20.0\n",
      "batch index:7| train_loss=2.31 | correct_percentage=23.75\n",
      "batch index:8| train_loss=2.28 | correct_percentage=25.56\n",
      "batch index:9| train_loss=2.3 | correct_percentage=24.0\n",
      "batch index:10| train_loss=2.34 | correct_percentage=21.82\n",
      "batch index:11| train_loss=2.32 | correct_percentage=21.67\n",
      "batch index:12| train_loss=2.33 | correct_percentage=20.77\n",
      "batch index:13| train_loss=2.29 | correct_percentage=20.71\n",
      "batch index:14| train_loss=2.28 | correct_percentage=21.33\n",
      "batch index:15| train_loss=2.29 | correct_percentage=20.62\n",
      "batch index:16| train_loss=2.33 | correct_percentage=20.59\n",
      "batch index:17| train_loss=2.34 | correct_percentage=20.0\n",
      "batch index:18| train_loss=2.36 | correct_percentage=19.47\n",
      "batch index:19| train_loss=2.34 | correct_percentage=20.0\n",
      "\n",
      "Epoch: 8\n",
      "batch index:0| train_loss=1.9 | correct_percentage=50.0\n",
      "batch index:1| train_loss=1.84 | correct_percentage=45.0\n",
      "batch index:2| train_loss=1.99 | correct_percentage=33.33\n",
      "batch index:3| train_loss=1.93 | correct_percentage=32.5\n",
      "batch index:4| train_loss=1.91 | correct_percentage=36.0\n",
      "batch index:5| train_loss=1.9 | correct_percentage=35.0\n",
      "batch index:6| train_loss=1.87 | correct_percentage=34.29\n",
      "batch index:7| train_loss=1.86 | correct_percentage=35.0\n",
      "batch index:8| train_loss=1.92 | correct_percentage=33.33\n",
      "batch index:9| train_loss=1.89 | correct_percentage=35.0\n",
      "batch index:10| train_loss=1.89 | correct_percentage=35.45\n",
      "batch index:11| train_loss=1.93 | correct_percentage=35.0\n",
      "batch index:12| train_loss=2.03 | correct_percentage=32.31\n",
      "batch index:13| train_loss=2.03 | correct_percentage=30.71\n",
      "batch index:14| train_loss=2.04 | correct_percentage=29.33\n",
      "batch index:15| train_loss=2.06 | correct_percentage=28.75\n",
      "batch index:16| train_loss=2.06 | correct_percentage=28.24\n",
      "batch index:17| train_loss=2.08 | correct_percentage=27.22\n",
      "batch index:18| train_loss=2.07 | correct_percentage=26.84\n",
      "batch index:19| train_loss=2.1 | correct_percentage=25.5\n",
      "\n",
      "Epoch: 9\n",
      "batch index:0| train_loss=2.49 | correct_percentage=10.0\n",
      "batch index:1| train_loss=2.18 | correct_percentage=15.0\n",
      "batch index:2| train_loss=2.02 | correct_percentage=23.33\n",
      "batch index:3| train_loss=1.93 | correct_percentage=32.5\n",
      "batch index:4| train_loss=2.0 | correct_percentage=32.0\n",
      "batch index:5| train_loss=2.08 | correct_percentage=30.0\n",
      "batch index:6| train_loss=2.12 | correct_percentage=30.0\n",
      "batch index:7| train_loss=2.05 | correct_percentage=31.25\n",
      "batch index:8| train_loss=2.06 | correct_percentage=30.0\n",
      "batch index:9| train_loss=2.01 | correct_percentage=32.0\n",
      "batch index:10| train_loss=2.0 | correct_percentage=31.82\n",
      "batch index:11| train_loss=1.99 | correct_percentage=31.67\n",
      "batch index:12| train_loss=1.97 | correct_percentage=30.77\n",
      "batch index:13| train_loss=2.01 | correct_percentage=29.29\n",
      "batch index:14| train_loss=2.02 | correct_percentage=28.0\n",
      "batch index:15| train_loss=2.0 | correct_percentage=27.5\n",
      "batch index:16| train_loss=2.02 | correct_percentage=27.06\n",
      "batch index:17| train_loss=2.02 | correct_percentage=27.22\n",
      "batch index:18| train_loss=2.0 | correct_percentage=27.37\n",
      "batch index:19| train_loss=2.03 | correct_percentage=26.5\n"
     ]
    }
   ],
   "source": [
    "model_2 = ResNet18()\n",
    "device = 'cuda' if torch.cuda.is_available() else 'cpu'\n",
    "model_2.to(device)\n",
    "\n",
    "if device == 'cuda':\n",
    "    model_2 = torch.nn.DataParallel(model_2)\n",
    "    # cudnn.benchmark = True\n",
    "\n",
    "optimizer_2 = torch.optim.SGD(model_2.parameters(), lr=0.01,\n",
    "                              momentum=0.9, weight_decay=5e-4)\n",
    "scheduler_2 = torch.optim.lr_scheduler.CosineAnnealingLR(optimizer_2, T_max=200)\n",
    "\n",
    "for epoch in range(0, 10):\n",
    "    train(model_2, epoch, criterion, optimizer_2, scheduler_2, train_loader_2)\n",
    "    scheduler.step()\n"
   ]
  },
  {
   "cell_type": "code",
   "execution_count": 37,
   "metadata": {
    "colab": {
     "base_uri": "https://localhost:8080/"
    },
    "id": "KR2m0DPrWHAI",
    "outputId": "e366e6aa-bf81-414e-bf15-d2320cf36686"
   },
   "outputs": [],
   "source": [
    "# print(f\"Accuracy on train set: {predict(model_2,train_loader)[1]}\")\n",
    "# print(f\"Accuracy on test set: {predict(model_2,test_loader)[1]}\")"
   ]
  },
  {
   "cell_type": "code",
   "execution_count": 38,
   "metadata": {},
   "outputs": [],
   "source": [
    "model_transfo2_train_accuracy=predict(model_2,train_loader)[1]\n",
    "model_transfo2_test_accuracy=predict(model_2,test_loader)[1]"
   ]
  },
  {
   "cell_type": "code",
   "execution_count": 39,
   "metadata": {},
   "outputs": [],
   "source": [
    "results.loc[3] = ['ResNet-18 (from scratch, data augmented color + horizontal flip)', 10, model_transfo2_train_accuracy,model_transfo2_test_accuracy]"
   ]
  },
  {
   "cell_type": "code",
   "execution_count": 40,
   "metadata": {},
   "outputs": [
    {
     "data": {
      "text/html": [
       "<div>\n",
       "<style scoped>\n",
       "    .dataframe tbody tr th:only-of-type {\n",
       "        vertical-align: middle;\n",
       "    }\n",
       "\n",
       "    .dataframe tbody tr th {\n",
       "        vertical-align: top;\n",
       "    }\n",
       "\n",
       "    .dataframe thead th {\n",
       "        text-align: right;\n",
       "    }\n",
       "</style>\n",
       "<table border=\"1\" class=\"dataframe\">\n",
       "  <thead>\n",
       "    <tr style=\"text-align: right;\">\n",
       "      <th></th>\n",
       "      <th>Model</th>\n",
       "      <th>Number of epochs</th>\n",
       "      <th>Train accuracy</th>\n",
       "      <th>Test accuracy</th>\n",
       "    </tr>\n",
       "  </thead>\n",
       "  <tbody>\n",
       "    <tr>\n",
       "      <th>0</th>\n",
       "      <td>ResNet-18 (from scratch)</td>\n",
       "      <td>10</td>\n",
       "      <td>79.0</td>\n",
       "      <td>17.71</td>\n",
       "    </tr>\n",
       "    <tr>\n",
       "      <th>1</th>\n",
       "      <td>ResNet-18 (pretrained)</td>\n",
       "      <td>10</td>\n",
       "      <td>85.0</td>\n",
       "      <td>21.59</td>\n",
       "    </tr>\n",
       "    <tr>\n",
       "      <th>2</th>\n",
       "      <td>ResNet-18 (from scratch, data augmented rotation)</td>\n",
       "      <td>10</td>\n",
       "      <td>54.0</td>\n",
       "      <td>20.34</td>\n",
       "    </tr>\n",
       "    <tr>\n",
       "      <th>3</th>\n",
       "      <td>ResNet-18 (from scratch, data augmented color + horizontal flip)</td>\n",
       "      <td>10</td>\n",
       "      <td>29.0</td>\n",
       "      <td>17.79</td>\n",
       "    </tr>\n",
       "  </tbody>\n",
       "</table>\n",
       "</div>"
      ],
      "text/plain": [
       "                                                              Model  \\\n",
       "0  ResNet-18 (from scratch)                                           \n",
       "1  ResNet-18 (pretrained)                                             \n",
       "2  ResNet-18 (from scratch, data augmented rotation)                  \n",
       "3  ResNet-18 (from scratch, data augmented color + horizontal flip)   \n",
       "\n",
       "   Number of epochs  Train accuracy  Test accuracy  \n",
       "0  10                79.0            17.71          \n",
       "1  10                85.0            21.59          \n",
       "2  10                54.0            20.34          \n",
       "3  10                29.0            17.79          "
      ]
     },
     "metadata": {},
     "output_type": "display_data"
    }
   ],
   "source": [
    "display(results)"
   ]
  },
  {
   "cell_type": "code",
   "execution_count": 41,
   "metadata": {
    "colab": {
     "base_uri": "https://localhost:8080/"
    },
    "id": "S4po-SaySW_l",
    "outputId": "34378534-6f7a-43a8-8c45-5c799d0dafa4"
   },
   "outputs": [
    {
     "name": "stdout",
     "output_type": "stream",
     "text": [
      "\n",
      "Epoch: 0\n",
      "batch index:0| train_loss=2.54 | correct_percentage=0.0\n",
      "batch index:1| train_loss=2.56 | correct_percentage=5.0\n",
      "batch index:2| train_loss=2.56 | correct_percentage=6.67\n",
      "batch index:3| train_loss=2.56 | correct_percentage=10.0\n",
      "batch index:4| train_loss=2.43 | correct_percentage=16.0\n",
      "batch index:5| train_loss=2.43 | correct_percentage=15.0\n",
      "batch index:6| train_loss=2.55 | correct_percentage=14.29\n",
      "batch index:7| train_loss=2.53 | correct_percentage=15.0\n",
      "batch index:8| train_loss=2.51 | correct_percentage=14.44\n",
      "batch index:9| train_loss=2.55 | correct_percentage=15.0\n",
      "batch index:10| train_loss=2.59 | correct_percentage=13.64\n",
      "batch index:11| train_loss=2.62 | correct_percentage=12.5\n",
      "batch index:12| train_loss=2.72 | correct_percentage=11.54\n",
      "batch index:13| train_loss=2.74 | correct_percentage=11.43\n",
      "batch index:14| train_loss=2.71 | correct_percentage=12.67\n",
      "batch index:15| train_loss=2.66 | correct_percentage=14.38\n",
      "batch index:16| train_loss=2.68 | correct_percentage=14.71\n",
      "batch index:17| train_loss=2.67 | correct_percentage=15.0\n",
      "batch index:18| train_loss=2.67 | correct_percentage=14.74\n",
      "batch index:19| train_loss=2.72 | correct_percentage=14.5\n",
      "\n",
      "Epoch: 1\n",
      "batch index:0| train_loss=3.46 | correct_percentage=10.0\n",
      "batch index:1| train_loss=3.08 | correct_percentage=20.0\n",
      "batch index:2| train_loss=3.61 | correct_percentage=20.0\n",
      "batch index:3| train_loss=3.41 | correct_percentage=22.5\n",
      "batch index:4| train_loss=3.37 | correct_percentage=18.0\n",
      "batch index:5| train_loss=3.27 | correct_percentage=20.0\n",
      "batch index:6| train_loss=3.2 | correct_percentage=20.0\n",
      "batch index:7| train_loss=3.37 | correct_percentage=17.5\n",
      "batch index:8| train_loss=3.33 | correct_percentage=16.67\n",
      "batch index:9| train_loss=3.28 | correct_percentage=17.0\n",
      "batch index:10| train_loss=3.26 | correct_percentage=15.45\n",
      "batch index:11| train_loss=3.24 | correct_percentage=16.67\n",
      "batch index:12| train_loss=3.15 | correct_percentage=16.92\n",
      "batch index:13| train_loss=3.13 | correct_percentage=17.14\n",
      "batch index:14| train_loss=3.08 | correct_percentage=17.33\n",
      "batch index:15| train_loss=3.11 | correct_percentage=16.88\n",
      "batch index:16| train_loss=3.04 | correct_percentage=17.65\n",
      "batch index:17| train_loss=3.08 | correct_percentage=17.78\n",
      "batch index:18| train_loss=3.04 | correct_percentage=17.37\n",
      "batch index:19| train_loss=2.99 | correct_percentage=17.5\n",
      "\n",
      "Epoch: 2\n",
      "batch index:0| train_loss=2.15 | correct_percentage=10.0\n",
      "batch index:1| train_loss=3.05 | correct_percentage=10.0\n",
      "batch index:2| train_loss=2.93 | correct_percentage=13.33\n",
      "batch index:3| train_loss=2.68 | correct_percentage=20.0\n",
      "batch index:4| train_loss=2.8 | correct_percentage=20.0\n",
      "batch index:5| train_loss=2.8 | correct_percentage=18.33\n",
      "batch index:6| train_loss=2.9 | correct_percentage=15.71\n",
      "batch index:7| train_loss=2.94 | correct_percentage=15.0\n",
      "batch index:8| train_loss=2.93 | correct_percentage=13.33\n",
      "batch index:9| train_loss=2.87 | correct_percentage=14.0\n",
      "batch index:10| train_loss=2.82 | correct_percentage=14.55\n",
      "batch index:11| train_loss=2.83 | correct_percentage=15.0\n",
      "batch index:12| train_loss=2.88 | correct_percentage=15.38\n",
      "batch index:13| train_loss=2.94 | correct_percentage=15.0\n",
      "batch index:14| train_loss=2.89 | correct_percentage=14.67\n",
      "batch index:15| train_loss=2.84 | correct_percentage=15.0\n",
      "batch index:16| train_loss=2.79 | correct_percentage=15.88\n",
      "batch index:17| train_loss=2.75 | correct_percentage=15.56\n",
      "batch index:18| train_loss=2.72 | correct_percentage=15.26\n",
      "batch index:19| train_loss=2.7 | correct_percentage=15.5\n",
      "\n",
      "Epoch: 3\n",
      "batch index:0| train_loss=2.65 | correct_percentage=20.0\n",
      "batch index:1| train_loss=2.53 | correct_percentage=15.0\n",
      "batch index:2| train_loss=2.47 | correct_percentage=16.67\n",
      "batch index:3| train_loss=2.37 | correct_percentage=17.5\n",
      "batch index:4| train_loss=2.57 | correct_percentage=16.0\n",
      "batch index:5| train_loss=2.46 | correct_percentage=20.0\n",
      "batch index:6| train_loss=2.48 | correct_percentage=22.86\n",
      "batch index:7| train_loss=2.44 | correct_percentage=21.25\n",
      "batch index:8| train_loss=2.36 | correct_percentage=23.33\n",
      "batch index:9| train_loss=2.3 | correct_percentage=25.0\n",
      "batch index:10| train_loss=2.26 | correct_percentage=26.36\n",
      "batch index:11| train_loss=2.29 | correct_percentage=25.83\n",
      "batch index:12| train_loss=2.28 | correct_percentage=25.38\n",
      "batch index:13| train_loss=2.26 | correct_percentage=24.29\n",
      "batch index:14| train_loss=2.24 | correct_percentage=24.0\n",
      "batch index:15| train_loss=2.3 | correct_percentage=22.5\n",
      "batch index:16| train_loss=2.35 | correct_percentage=22.35\n",
      "batch index:17| train_loss=2.36 | correct_percentage=23.33\n",
      "batch index:18| train_loss=2.34 | correct_percentage=23.16\n",
      "batch index:19| train_loss=2.32 | correct_percentage=23.0\n",
      "\n",
      "Epoch: 4\n",
      "batch index:0| train_loss=2.77 | correct_percentage=30.0\n",
      "batch index:1| train_loss=2.98 | correct_percentage=15.0\n",
      "batch index:2| train_loss=2.8 | correct_percentage=13.33\n",
      "batch index:3| train_loss=2.64 | correct_percentage=17.5\n",
      "batch index:4| train_loss=2.51 | correct_percentage=20.0\n",
      "batch index:5| train_loss=2.43 | correct_percentage=20.0\n",
      "batch index:6| train_loss=2.4 | correct_percentage=21.43\n",
      "batch index:7| train_loss=2.31 | correct_percentage=23.75\n",
      "batch index:8| train_loss=2.27 | correct_percentage=25.56\n",
      "batch index:9| train_loss=2.24 | correct_percentage=24.0\n",
      "batch index:10| train_loss=2.29 | correct_percentage=21.82\n",
      "batch index:11| train_loss=2.3 | correct_percentage=20.0\n",
      "batch index:12| train_loss=2.28 | correct_percentage=20.77\n",
      "batch index:13| train_loss=2.23 | correct_percentage=22.86\n",
      "batch index:14| train_loss=2.23 | correct_percentage=22.0\n",
      "batch index:15| train_loss=2.21 | correct_percentage=22.5\n",
      "batch index:16| train_loss=2.19 | correct_percentage=22.35\n",
      "batch index:17| train_loss=2.21 | correct_percentage=22.22\n",
      "batch index:18| train_loss=2.19 | correct_percentage=23.16\n",
      "batch index:19| train_loss=2.19 | correct_percentage=24.0\n",
      "\n",
      "Epoch: 5\n",
      "batch index:0| train_loss=1.84 | correct_percentage=20.0\n",
      "batch index:1| train_loss=1.89 | correct_percentage=20.0\n",
      "batch index:2| train_loss=2.02 | correct_percentage=20.0\n",
      "batch index:3| train_loss=2.05 | correct_percentage=22.5\n",
      "batch index:4| train_loss=2.08 | correct_percentage=26.0\n",
      "batch index:5| train_loss=1.98 | correct_percentage=31.67\n",
      "batch index:6| train_loss=1.93 | correct_percentage=31.43\n",
      "batch index:7| train_loss=1.85 | correct_percentage=35.0\n",
      "batch index:8| train_loss=1.95 | correct_percentage=32.22\n",
      "batch index:9| train_loss=1.94 | correct_percentage=32.0\n",
      "batch index:10| train_loss=1.96 | correct_percentage=33.64\n",
      "batch index:11| train_loss=1.97 | correct_percentage=32.5\n",
      "batch index:12| train_loss=1.96 | correct_percentage=33.08\n",
      "batch index:13| train_loss=1.99 | correct_percentage=32.86\n",
      "batch index:14| train_loss=1.98 | correct_percentage=32.0\n",
      "batch index:15| train_loss=2.02 | correct_percentage=31.25\n",
      "batch index:16| train_loss=2.01 | correct_percentage=31.18\n",
      "batch index:17| train_loss=2.03 | correct_percentage=29.44\n",
      "batch index:18| train_loss=2.08 | correct_percentage=28.95\n",
      "batch index:19| train_loss=2.08 | correct_percentage=28.0\n",
      "\n",
      "Epoch: 6\n",
      "batch index:0| train_loss=1.69 | correct_percentage=30.0\n",
      "batch index:1| train_loss=1.88 | correct_percentage=25.0\n",
      "batch index:2| train_loss=1.9 | correct_percentage=26.67\n",
      "batch index:3| train_loss=2.04 | correct_percentage=22.5\n",
      "batch index:4| train_loss=1.99 | correct_percentage=22.0\n",
      "batch index:5| train_loss=2.02 | correct_percentage=26.67\n",
      "batch index:6| train_loss=1.93 | correct_percentage=31.43\n",
      "batch index:7| train_loss=2.01 | correct_percentage=28.75\n",
      "batch index:8| train_loss=2.01 | correct_percentage=28.89\n",
      "batch index:9| train_loss=1.96 | correct_percentage=31.0\n",
      "batch index:10| train_loss=1.93 | correct_percentage=31.82\n",
      "batch index:11| train_loss=1.9 | correct_percentage=33.33\n",
      "batch index:12| train_loss=1.91 | correct_percentage=33.85\n",
      "batch index:13| train_loss=1.92 | correct_percentage=33.57\n",
      "batch index:14| train_loss=1.91 | correct_percentage=34.0\n",
      "batch index:15| train_loss=1.93 | correct_percentage=34.38\n",
      "batch index:16| train_loss=1.98 | correct_percentage=32.94\n",
      "batch index:17| train_loss=1.97 | correct_percentage=32.78\n",
      "batch index:18| train_loss=2.0 | correct_percentage=32.11\n",
      "batch index:19| train_loss=2.01 | correct_percentage=33.0\n",
      "\n",
      "Epoch: 7\n",
      "batch index:0| train_loss=2.54 | correct_percentage=0.0\n"
     ]
    },
    {
     "name": "stdout",
     "output_type": "stream",
     "text": [
      "batch index:1| train_loss=2.04 | correct_percentage=20.0\n",
      "batch index:2| train_loss=1.93 | correct_percentage=26.67\n",
      "batch index:3| train_loss=1.85 | correct_percentage=27.5\n",
      "batch index:4| train_loss=1.78 | correct_percentage=34.0\n",
      "batch index:5| train_loss=1.68 | correct_percentage=38.33\n",
      "batch index:6| train_loss=1.74 | correct_percentage=37.14\n",
      "batch index:7| train_loss=1.78 | correct_percentage=36.25\n",
      "batch index:8| train_loss=1.76 | correct_percentage=37.78\n",
      "batch index:9| train_loss=1.79 | correct_percentage=36.0\n",
      "batch index:10| train_loss=1.71 | correct_percentage=40.0\n",
      "batch index:11| train_loss=1.73 | correct_percentage=40.83\n",
      "batch index:12| train_loss=1.79 | correct_percentage=40.0\n",
      "batch index:13| train_loss=1.85 | correct_percentage=39.29\n",
      "batch index:14| train_loss=1.82 | correct_percentage=39.33\n",
      "batch index:15| train_loss=1.91 | correct_percentage=38.12\n",
      "batch index:16| train_loss=1.92 | correct_percentage=38.24\n",
      "batch index:17| train_loss=1.92 | correct_percentage=37.78\n",
      "batch index:18| train_loss=1.97 | correct_percentage=36.32\n",
      "batch index:19| train_loss=1.95 | correct_percentage=36.5\n",
      "\n",
      "Epoch: 8\n",
      "batch index:0| train_loss=2.12 | correct_percentage=30.0\n",
      "batch index:1| train_loss=2.05 | correct_percentage=25.0\n",
      "batch index:2| train_loss=1.86 | correct_percentage=30.0\n",
      "batch index:3| train_loss=1.87 | correct_percentage=32.5\n",
      "batch index:4| train_loss=1.86 | correct_percentage=34.0\n",
      "batch index:5| train_loss=1.92 | correct_percentage=36.67\n",
      "batch index:6| train_loss=1.89 | correct_percentage=35.71\n",
      "batch index:7| train_loss=1.82 | correct_percentage=38.75\n",
      "batch index:8| train_loss=1.84 | correct_percentage=38.89\n",
      "batch index:9| train_loss=1.95 | correct_percentage=37.0\n",
      "batch index:10| train_loss=1.93 | correct_percentage=37.27\n",
      "batch index:11| train_loss=1.9 | correct_percentage=36.67\n",
      "batch index:12| train_loss=1.9 | correct_percentage=37.69\n",
      "batch index:13| train_loss=1.88 | correct_percentage=38.57\n",
      "batch index:14| train_loss=1.9 | correct_percentage=39.33\n",
      "batch index:15| train_loss=1.89 | correct_percentage=40.0\n",
      "batch index:16| train_loss=1.9 | correct_percentage=39.41\n",
      "batch index:17| train_loss=1.94 | correct_percentage=38.33\n",
      "batch index:18| train_loss=1.92 | correct_percentage=38.42\n",
      "batch index:19| train_loss=1.88 | correct_percentage=38.5\n",
      "\n",
      "Epoch: 9\n",
      "batch index:0| train_loss=1.12 | correct_percentage=40.0\n",
      "batch index:1| train_loss=1.42 | correct_percentage=40.0\n",
      "batch index:2| train_loss=1.35 | correct_percentage=50.0\n",
      "batch index:3| train_loss=1.41 | correct_percentage=45.0\n",
      "batch index:4| train_loss=1.48 | correct_percentage=42.0\n",
      "batch index:5| train_loss=1.55 | correct_percentage=40.0\n",
      "batch index:6| train_loss=1.58 | correct_percentage=38.57\n",
      "batch index:7| train_loss=1.63 | correct_percentage=37.5\n",
      "batch index:8| train_loss=1.64 | correct_percentage=36.67\n",
      "batch index:9| train_loss=1.67 | correct_percentage=37.0\n",
      "batch index:10| train_loss=1.63 | correct_percentage=39.09\n",
      "batch index:11| train_loss=1.61 | correct_percentage=39.17\n",
      "batch index:12| train_loss=1.6 | correct_percentage=40.77\n",
      "batch index:13| train_loss=1.65 | correct_percentage=40.71\n",
      "batch index:14| train_loss=1.7 | correct_percentage=40.0\n",
      "batch index:15| train_loss=1.7 | correct_percentage=41.25\n",
      "batch index:16| train_loss=1.73 | correct_percentage=40.59\n",
      "batch index:17| train_loss=1.71 | correct_percentage=41.67\n",
      "batch index:18| train_loss=1.71 | correct_percentage=41.05\n",
      "batch index:19| train_loss=1.74 | correct_percentage=40.0\n"
     ]
    }
   ],
   "source": [
    "model_3 = ResNet18()\n",
    "device = 'cuda' if torch.cuda.is_available() else 'cpu'\n",
    "model_3.to(device)\n",
    "\n",
    "if device == 'cuda':\n",
    "    model_3 = torch.nn.DataParallel(model_3)\n",
    "    # cudnn.benchmark = True\n",
    "\n",
    "optimizer_3 = torch.optim.SGD(model_3.parameters(), lr=0.01,\n",
    "                              momentum=0.9, weight_decay=5e-4)\n",
    "scheduler_3 = torch.optim.lr_scheduler.CosineAnnealingLR(optimizer_3, T_max=200)\n",
    "\n",
    "for epoch in range(0, 10):\n",
    "    train(model_3, epoch, criterion, optimizer_3, scheduler_3, train_loader_3)\n",
    "    scheduler.step()\n"
   ]
  },
  {
   "cell_type": "code",
   "execution_count": 43,
   "metadata": {
    "colab": {
     "base_uri": "https://localhost:8080/"
    },
    "id": "iCU8rE_BWxZ3",
    "outputId": "117eb354-7bc6-45fc-d500-0e694b067efe"
   },
   "outputs": [
    {
     "name": "stdout",
     "output_type": "stream",
     "text": [
      "Accuracy on train set: 57.0\n",
      "Accuracy on train set: 20.52\n"
     ]
    }
   ],
   "source": [
    "# print(f\"Accuracy on train set: {predict(model_3,train_loader)[1]}\")\n",
    "# print(f\"Accuracy on train set: {predict(model_3,test_loader)[1]}\")"
   ]
  },
  {
   "cell_type": "code",
   "execution_count": 44,
   "metadata": {},
   "outputs": [],
   "source": [
    "model_transfo3_train_accuracy=predict(model_3,train_loader)[1]\n",
    "model_transfo3_test_accuracy=predict(model_3,test_loader)[1]"
   ]
  },
  {
   "cell_type": "code",
   "execution_count": 45,
   "metadata": {},
   "outputs": [],
   "source": [
    "results.loc[4] = ['ResNet-18 (from scratch, data augmented GrayScale)', 10, model_transfo3_train_accuracy,model_transfo3_test_accuracy]"
   ]
  },
  {
   "cell_type": "code",
   "execution_count": null,
   "metadata": {},
   "outputs": [],
   "source": []
  },
  {
   "cell_type": "code",
   "execution_count": 46,
   "metadata": {},
   "outputs": [
    {
     "data": {
      "text/html": [
       "<div>\n",
       "<style scoped>\n",
       "    .dataframe tbody tr th:only-of-type {\n",
       "        vertical-align: middle;\n",
       "    }\n",
       "\n",
       "    .dataframe tbody tr th {\n",
       "        vertical-align: top;\n",
       "    }\n",
       "\n",
       "    .dataframe thead th {\n",
       "        text-align: right;\n",
       "    }\n",
       "</style>\n",
       "<table border=\"1\" class=\"dataframe\">\n",
       "  <thead>\n",
       "    <tr style=\"text-align: right;\">\n",
       "      <th></th>\n",
       "      <th>Model</th>\n",
       "      <th>Number of epochs</th>\n",
       "      <th>Train accuracy</th>\n",
       "      <th>Test accuracy</th>\n",
       "    </tr>\n",
       "  </thead>\n",
       "  <tbody>\n",
       "    <tr>\n",
       "      <th>0</th>\n",
       "      <td>ResNet-18 (from scratch)</td>\n",
       "      <td>10</td>\n",
       "      <td>79.0</td>\n",
       "      <td>17.71</td>\n",
       "    </tr>\n",
       "    <tr>\n",
       "      <th>1</th>\n",
       "      <td>ResNet-18 (pretrained)</td>\n",
       "      <td>10</td>\n",
       "      <td>85.0</td>\n",
       "      <td>21.59</td>\n",
       "    </tr>\n",
       "    <tr>\n",
       "      <th>2</th>\n",
       "      <td>ResNet-18 (from scratch, data augmented rotation)</td>\n",
       "      <td>10</td>\n",
       "      <td>54.0</td>\n",
       "      <td>20.34</td>\n",
       "    </tr>\n",
       "    <tr>\n",
       "      <th>3</th>\n",
       "      <td>ResNet-18 (from scratch, data augmented color + horizontal flip)</td>\n",
       "      <td>10</td>\n",
       "      <td>29.0</td>\n",
       "      <td>17.79</td>\n",
       "    </tr>\n",
       "    <tr>\n",
       "      <th>4</th>\n",
       "      <td>ResNet-18 (from scratch, data augmented GrayScale)</td>\n",
       "      <td>10</td>\n",
       "      <td>57.0</td>\n",
       "      <td>20.52</td>\n",
       "    </tr>\n",
       "  </tbody>\n",
       "</table>\n",
       "</div>"
      ],
      "text/plain": [
       "                                                              Model  \\\n",
       "0  ResNet-18 (from scratch)                                           \n",
       "1  ResNet-18 (pretrained)                                             \n",
       "2  ResNet-18 (from scratch, data augmented rotation)                  \n",
       "3  ResNet-18 (from scratch, data augmented color + horizontal flip)   \n",
       "4  ResNet-18 (from scratch, data augmented GrayScale)                 \n",
       "\n",
       "   Number of epochs  Train accuracy  Test accuracy  \n",
       "0  10                79.0            17.71          \n",
       "1  10                85.0            21.59          \n",
       "2  10                54.0            20.34          \n",
       "3  10                29.0            17.79          \n",
       "4  10                57.0            20.52          "
      ]
     },
     "metadata": {},
     "output_type": "display_data"
    }
   ],
   "source": [
    "display(results)"
   ]
  },
  {
   "cell_type": "markdown",
   "metadata": {},
   "source": [
    "As we could observe the model performance strongly depend on the transformation we use, it could group with less coherent transformation such as color jittering and horizontal flip and it could increase with more realistic transformation such as rotation, so in order to apply a transformation we must study our dataset and make sure the transformation we want to apply match with the potential caracteristic of the dataset."
   ]
  },
  {
   "cell_type": "markdown",
   "metadata": {
    "cell_ktag": "D/50KWKDV3wr",
    "id": "HRUA5I8N_2hk"
   },
   "source": [
    "# Conclusions"
   ]
  },
  {
   "cell_type": "markdown",
   "metadata": {
    "cell_ktag": "D/50KWKDV3wr",
    "id": "RmyiWAPJ_2hl"
   },
   "source": [
    "__Question 7 (3 points) :__ Write a short report explaining the pros and the cons of each method that you implemented. 25% of the grade of this project will correspond to this question, thus, it should be done carefully. In particular, please add a plot that will summarize all your numerical results."
   ]
  },
  {
   "cell_type": "markdown",
   "metadata": {},
   "source": [
    "In this lab, we tackled the CIFAR-10 classification task using a ResNet18 deep learning model. To improve the performance of our basic model, we implemented two methods: transfer learning and data augmentation. Transfer learning consists of using a model pre-trained with a similar task and adapting it to our task. This method logically improves the performance of the base model, since we exploit the information learned by the pre-trained model, which only requires rapid adaptations. However, it may be rare to find a similar task solved, and it is necessary to carefully consider how to freeze and unfreeze the pre-trained weights.\n",
    "\n",
    "On the other hand, data augmentation involves increasing the training samples by generating new samples through transformations of the original samples. The effectiveness of data augmentation depends on the transformations chosen, with the potential to improve performance if the subject is well understood. However, poorly chosen transformations can decrease performance. Moreover it is necessary to increase the number of epochs to take into account the new dataset size, that could increase the training time. Therefore, while data augmentation offers potential benefits, it requires careful selection and testing of transformations to ensure that they improve rather than hinder classification accuracy."
   ]
  },
  {
   "cell_type": "code",
   "execution_count": 47,
   "metadata": {},
   "outputs": [
    {
     "data": {
      "text/html": [
       "<div>\n",
       "<style scoped>\n",
       "    .dataframe tbody tr th:only-of-type {\n",
       "        vertical-align: middle;\n",
       "    }\n",
       "\n",
       "    .dataframe tbody tr th {\n",
       "        vertical-align: top;\n",
       "    }\n",
       "\n",
       "    .dataframe thead th {\n",
       "        text-align: right;\n",
       "    }\n",
       "</style>\n",
       "<table border=\"1\" class=\"dataframe\">\n",
       "  <thead>\n",
       "    <tr style=\"text-align: right;\">\n",
       "      <th></th>\n",
       "      <th>Model</th>\n",
       "      <th>Number of epochs</th>\n",
       "      <th>Train accuracy</th>\n",
       "      <th>Test accuracy</th>\n",
       "    </tr>\n",
       "  </thead>\n",
       "  <tbody>\n",
       "    <tr>\n",
       "      <th>0</th>\n",
       "      <td>ResNet-18 (from scratch)</td>\n",
       "      <td>10</td>\n",
       "      <td>79.0</td>\n",
       "      <td>17.71</td>\n",
       "    </tr>\n",
       "    <tr>\n",
       "      <th>1</th>\n",
       "      <td>ResNet-18 (pretrained)</td>\n",
       "      <td>10</td>\n",
       "      <td>85.0</td>\n",
       "      <td>21.59</td>\n",
       "    </tr>\n",
       "    <tr>\n",
       "      <th>2</th>\n",
       "      <td>ResNet-18 (from scratch, data augmented rotation)</td>\n",
       "      <td>10</td>\n",
       "      <td>54.0</td>\n",
       "      <td>20.34</td>\n",
       "    </tr>\n",
       "    <tr>\n",
       "      <th>3</th>\n",
       "      <td>ResNet-18 (from scratch, data augmented color + horizontal flip)</td>\n",
       "      <td>10</td>\n",
       "      <td>29.0</td>\n",
       "      <td>17.79</td>\n",
       "    </tr>\n",
       "    <tr>\n",
       "      <th>4</th>\n",
       "      <td>ResNet-18 (from scratch, data augmented GrayScale)</td>\n",
       "      <td>10</td>\n",
       "      <td>57.0</td>\n",
       "      <td>20.52</td>\n",
       "    </tr>\n",
       "  </tbody>\n",
       "</table>\n",
       "</div>"
      ],
      "text/plain": [
       "                                                              Model  \\\n",
       "0  ResNet-18 (from scratch)                                           \n",
       "1  ResNet-18 (pretrained)                                             \n",
       "2  ResNet-18 (from scratch, data augmented rotation)                  \n",
       "3  ResNet-18 (from scratch, data augmented color + horizontal flip)   \n",
       "4  ResNet-18 (from scratch, data augmented GrayScale)                 \n",
       "\n",
       "   Number of epochs  Train accuracy  Test accuracy  \n",
       "0  10                79.0            17.71          \n",
       "1  10                85.0            21.59          \n",
       "2  10                54.0            20.34          \n",
       "3  10                29.0            17.79          \n",
       "4  10                57.0            20.52          "
      ]
     },
     "metadata": {},
     "output_type": "display_data"
    }
   ],
   "source": [
    "display(results)"
   ]
  },
  {
   "cell_type": "code",
   "execution_count": 48,
   "metadata": {},
   "outputs": [
    {
     "data": {
      "image/png": "[encoded data removed]",
      "text/plain": [
       "<Figure size 1000x600 with 1 Axes>"
      ]
     },
     "metadata": {},
     "output_type": "display_data"
    }
   ],
   "source": [
    "plt.figure(figsize=(10, 6))\n",
    "\n",
    "# Iterate over each row to plot points with different colors for each model\n",
    "for i, row in results.iterrows():\n",
    "    plt.scatter(row['Train accuracy'], row['Test accuracy'], s=200, label=row['Model'], alpha=0.7)\n",
    "\n",
    "plt.xlabel('Train accuracy')\n",
    "plt.ylabel('Test accuracy')\n",
    "plt.title('Performance of each Model')\n",
    "plt.legend(title='Model')\n",
    "plt.grid(True)\n",
    "plt.show()"
   ]
  },
  {
   "cell_type": "markdown",
   "metadata": {
    "cell_ktag": "D/50KWKDV3wr",
    "id": "zJ-v4Nev_2hl"
   },
   "source": []
  },
  {
   "cell_type": "markdown",
   "metadata": {
    "cell_ktag": "D/50KWKDV3wr",
    "id": "sAGp7ddN_2hl"
   },
   "source": [
    "# Weak supervision"
   ]
  },
  {
   "cell_type": "markdown",
   "metadata": {
    "cell_ktag": "D/50KWKDV3wr",
    "id": "wHQRLbC3_2hl"
   },
   "source": [
    "__Bonus \\[open\\] question (up to 3 points) :__ Pick a weakly supervised method that will potentially use $\\mathcal{X}\\cup\\mathcal{X}_{\\text{train}}$ to train a representation (a subset of $\\mathcal{X}$ is also fine). Evaluate it and report the accuracies. You should be careful in the choice of your method, in order to avoid heavy computational effort."
   ]
  },
  {
   "cell_type": "markdown",
   "metadata": {
    "cell_ktag": "D/50KWKDV3wr",
    "id": "rbjhfIvN_2hl"
   },
   "source": []
  }
 ],
 "metadata": {
  "accelerator": "GPU",
  "colab": {
   "gpuType": "T4",
   "provenance": []
  },
  "kernelspec": {
   "display_name": "challengeQRT",
   "language": "python",
   "name": "challengeqrt"
  },
  "kfiletag": "D/50KWKDV3wr",
  "language_info": {
   "codemirror_mode": {
    "name": "ipython",
    "version": 3
   },
   "file_extension": ".py",
   "mimetype": "text/x-python",
   "name": "python",
   "nbconvert_exporter": "python",
   "pygments_lexer": "ipython3",
   "version": "3.12.1"
  }
 },
 "nbformat": 4,
 "nbformat_minor": 1
}
